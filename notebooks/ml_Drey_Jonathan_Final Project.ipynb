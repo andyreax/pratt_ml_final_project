{
 "cells": [
  {
   "cell_type": "code",
   "execution_count": 38,
   "metadata": {},
   "outputs": [],
   "source": [
    "import json\n",
    "import csv\n",
    "import pandas as pd\n",
    "import numpy as np\n",
    "import nltk\n",
    "\n",
    "import string\n",
    "import re\n",
    "import gensim\n",
    "\n",
    "pd.set_option('display.max_rows', None)\n",
    "pd.set_option('display.max_columns', None)\n",
    "pd.set_option('display.width', None)\n",
    "pd.set_option('display.max_colwidth', None)\n",
    "\n"
   ]
  },
  {
   "cell_type": "code",
   "execution_count": null,
   "metadata": {
    "scrolled": true
   },
   "outputs": [],
   "source": [
    "#Brining in arxiv metadata as CSV\n",
    "#df = pd.read_csv(\"/Users/aster/Desktop/Fall 2020/ML/final_project/data/arxiv_metadata.csv\")"
   ]
  },
  {
   "cell_type": "code",
   "execution_count": null,
   "metadata": {},
   "outputs": [],
   "source": [
    "#df.head()"
   ]
  },
  {
   "cell_type": "code",
   "execution_count": 39,
   "metadata": {},
   "outputs": [],
   "source": [
    "#Setting up Paths for rest of Notebook\n",
    "import os\n",
    "import os.path\n",
    "\n",
    "#'uncleaned' subset of from arxiv metadata snapshot. ML(cs.lg) and or AI(cs.ai) category tagged papers with \"fair\" in the title\n",
    "#/Users/aster/Desktop/fall_2020/ML/final_project/pratt_ml_final_project/data/arxiv_corpus_2020_11_23.csv\n",
    "snapshot = os.path.join(\"/Users/aster/Desktop/fall_2020/ML/final_project/data/arxiv_corpus_2020_11_23.csv\")\n",
    "\n",
    "#data after cleaning, lemmatization, bigrams, tokenization\n",
    "dataset = os.path.join(\"/Users/aster/Desktop/fall_2020/ML/final_project/data/arxiv_corpus_2020_12_8.csv\")"
   ]
  },
  {
   "cell_type": "markdown",
   "metadata": {},
   "source": [
    "### Data Subset Selection\n",
    "\n",
    "Now that we have the arxiv metadata snapshot as a csv we can make 2 corpus, one with abstract data and one with title; which we'll preprocess and fit our model. For this project we're particularly interested in how machine learning practitioners are thinking and talking about \"fairness\". We're trying to see if we can identify types of approaches to fairness in the form of subjects. \n",
    "\n",
    "Our data subset will include papers: \n",
    "- With \"fair\" in the title\n",
    "- With machine learning (cs.LG) and artificial intelligence (cs.AI) in the categories column\n",
    "\n",
    "In this part of the project required loading the arxiv metadata snaphot which was rather large. I've commented it out here. "
   ]
  },
  {
   "cell_type": "code",
   "execution_count": null,
   "metadata": {},
   "outputs": [],
   "source": [
    "#Papers that have fair in title\n",
    "#df=df[df['title'].str.lower().str.contains(\"fair\")]\n"
   ]
  },
  {
   "cell_type": "code",
   "execution_count": null,
   "metadata": {},
   "outputs": [],
   "source": [
    "#Papers including fair in the title that are in our categories of interest\n",
    "df = df[df[\"categories\"].str.lower().str.contains(\"cs.ai\", \"cs.lg\")]\n",
    "df.shape"
   ]
  },
  {
   "cell_type": "code",
   "execution_count": null,
   "metadata": {},
   "outputs": [],
   "source": [
    "#Writing subset to a csv file in the data folder\n",
    "df = pd.read_csv(snapshot, encoding = 'utf8')\n",
    "#df.head()"
   ]
  },
  {
   "cell_type": "code",
   "execution_count": null,
   "metadata": {},
   "outputs": [],
   "source": [
    "#using a lambda function to apply str(ing).lower(case) to the abstract and title column. \n",
    "#Also making new columns for the \"cleaned\" abstract and title data. This way we hold unto our original data.\n",
    "#I'm using a lambda function because I need to apply this to multiple columns\n",
    "df[[\"abstract_clean\", \"title_clean\"]] = df[[\"abstract\", \"title\"]].apply(lambda x: x.str.lower())"
   ]
  },
  {
   "cell_type": "markdown",
   "metadata": {},
   "source": [
    "## Data Cleaning: "
   ]
  },
  {
   "cell_type": "markdown",
   "metadata": {},
   "source": [
    "Now that we have our subset data in one place we can move unto cleaning. \n",
    "\n",
    "- [x] I'd like to get rid of puntuations.  \n",
    "- [x] I'd like to get rid of \"/n\"\n",
    "- [x] I'd like to get rid of numbers\n"
   ]
  },
  {
   "cell_type": "code",
   "execution_count": null,
   "metadata": {},
   "outputs": [],
   "source": [
    "import re\n",
    "import string\n",
    "\n",
    "#creating a variable to hold all the string patterns we want to operate on with regex\n",
    "# \"|\" pipe is an \"or\" joing the pattern for:\n",
    "#punctuation \"[^\\w\\s]\"\n",
    "#new line marker \"\\n\"\n",
    "#and numerals \"\\d+\"\n",
    "#then apply .str.replace via lambda function\n",
    "pattern = '|'.join([\"[^\\w\\s]\", \"\\n\", \"\\d+\", \"[‘’“”…]\"])\n",
    "\n",
    "df[['title_clean','abstract_clean']] = df[['title_clean','abstract_clean']].apply(lambda x: x.str.replace(pattern, ' '))\n",
    "#df.head()\n"
   ]
  },
  {
   "cell_type": "code",
   "execution_count": null,
   "metadata": {
    "scrolled": true
   },
   "outputs": [],
   "source": [
    "#Leading and Trailing White Space\n",
    "df[['title_clean','abstract_clean']] = df[['title_clean','abstract_clean']].apply(lambda x: x.str.strip())\n",
    "#df.head()"
   ]
  },
  {
   "cell_type": "markdown",
   "metadata": {},
   "source": [
    "## Further Cleaning - More Normalization and Tokenization\n",
    "\n",
    "Now that we have our corpus clean we can had into preprocessing for our model. \n",
    "Our Preprocessing Tasks are: \n",
    "\n",
    "- [x] Stop words\n",
    "- [x] Stemming/Lemmatization of words\n",
    "- [x] Tokenizing words - Creating Document Term Matrix (otherwise known as bag of words)\n",
    "- [] Bigrams"
   ]
  },
  {
   "cell_type": "code",
   "execution_count": null,
   "metadata": {},
   "outputs": [],
   "source": [
    "### Stemming/Lemmatization \n",
    "#nltk.download('wordnet')\n",
    "import nltk\n",
    "#nltk.download('stopwords')\n",
    "from nltk.stem import WordNetLemmatizer\n",
    "from gensim.models.phrases import Phraser\n",
    "\n",
    "\n",
    "t = nltk.tokenize.WhitespaceTokenizer()\n",
    "lem = nltk.stem.WordNetLemmatizer()\n",
    "\n",
    "#this function will tokenize AND THEN lemmatize values in a column\n",
    "def lem_text(text):\n",
    "    return [lem.lemmatize(w, 'v') for w in t.tokenize(text)]\n",
    "\n",
    "#df = pd.DataFrame([‘this was cheesy blessing’, 'she likes these books ', ‘wow this is great amazing’], columns=[‘text’])\n",
    "#print(df)\n",
    "\n",
    "df[\"title_clean\"] = df[\"title_clean\"].apply(lem_text)\n",
    "df[\"abstract_clean\"] = df[\"abstract_clean\"].apply(lem_text)\n",
    "\n",
    "#Now we have tokenized and lemmed columns of abstract adn title data, "
   ]
  },
  {
   "cell_type": "code",
   "execution_count": null,
   "metadata": {},
   "outputs": [],
   "source": [
    "#df.head()"
   ]
  },
  {
   "cell_type": "code",
   "execution_count": null,
   "metadata": {},
   "outputs": [],
   "source": [
    "#Getting rid of Stop Words\n",
    "from nltk.corpus import stopwords\n",
    "\n",
    "stop=stopwords.words(\"english\")\n",
    "\n",
    "df[\"abstract_clean\"]= df['abstract_clean'].apply(lambda x: [item for item in x if item not in stop])\n",
    "df['title_clean'] = df['title_clean'].apply(lambda x: [item for item in x if item not in stop])\n",
    "# Strangely I can't group these funtion together or it doesn't seem to work on both columns i'm tryin to select. "
   ]
  },
  {
   "cell_type": "code",
   "execution_count": null,
   "metadata": {},
   "outputs": [],
   "source": [
    "#df.head()"
   ]
  },
  {
   "cell_type": "markdown",
   "metadata": {},
   "source": [
    "### N-grams: Bigrams, Trigrams, Probability\n",
    "\n",
    "In computational lingusitics/natural language processing an \"n-gram\" describes a sequence of n-items in a collection of text. \n",
    "\n",
    "So in the sentence:\n",
    "\n",
    "\"Machine Learning should reckon with fairness, justice, and equity.\"\n",
    "\n",
    "\"Machine\" - 1-gram (unigram)\n",
    "\n",
    "\"Machine, Learning\" - 2-gram (bigram)\n",
    "\n",
    "\"Machine, Learning, should\" - 3-gram (trigram)\n",
    "\n",
    "Machine, Learning, should, reckon\" - 4-(quadgram)\n",
    "\n",
    "etc. \n",
    "\n",
    "Currently the text we're looking at is tokenized as unigrams. So now we're going to try using bigrams and trigrams and see what sort of new results we can get. \n"
   ]
  },
  {
   "cell_type": "code",
   "execution_count": null,
   "metadata": {
    "scrolled": false
   },
   "outputs": [],
   "source": [
    "###Setting Bigrams\n",
    "import gensim\n",
    "from gensim.models import Phrases\n",
    "from gensim.models.phrases import Phraser\n",
    "\n",
    "def bigrams(text):\n",
    "    bigram = Phrases(text, min_count=1)\n",
    "    bigram_mod = Phraser(bigram)\n",
    "    return [bigram_mod[[x]] for x in text]\n",
    "\n",
    "df['title_clean']=df['title_clean'].apply(lambda x: (x))\n",
    "df['title_clean']=df[['title_clean']].apply(bigrams)\n"
   ]
  },
  {
   "cell_type": "code",
   "execution_count": null,
   "metadata": {},
   "outputs": [],
   "source": [
    "#df.head()"
   ]
  },
  {
   "cell_type": "code",
   "execution_count": null,
   "metadata": {
    "scrolled": true
   },
   "outputs": [],
   "source": [
    "#Setting bigrams for the abstract data. We'll primarily be looking at abstracts for our topics.\n",
    "df['abstract_clean']=df['abstract_clean'].apply(lambda x: (x))\n",
    "df['abstract_clean']=df[['abstract_clean']].apply(bigrams)\n"
   ]
  },
  {
   "cell_type": "code",
   "execution_count": null,
   "metadata": {
    "scrolled": true
   },
   "outputs": [],
   "source": [
    "#Was just checking to see if my lambda function was applied. It was but it's returning a generator object\n",
    "#I'll have to transform my text data back into a list. \n",
    "#df['abstract_clean'][1]"
   ]
  },
  {
   "cell_type": "code",
   "execution_count": null,
   "metadata": {},
   "outputs": [],
   "source": [
    "#list(df['abstract_clean'][1])"
   ]
  },
  {
   "cell_type": "code",
   "execution_count": null,
   "metadata": {},
   "outputs": [],
   "source": [
    "df[\"title_clean\"] = df[\"title_clean\"].apply(lambda x: list(x)[0])"
   ]
  },
  {
   "cell_type": "code",
   "execution_count": null,
   "metadata": {},
   "outputs": [],
   "source": [
    "df[\"abstract_clean\"] = df[\"abstract_clean\"].apply(lambda x: list(x)[0])"
   ]
  },
  {
   "cell_type": "code",
   "execution_count": null,
   "metadata": {},
   "outputs": [],
   "source": [
    "#Checking the 2nd paper's title to make sure it's a list of unigram/bigrams and not a generator object\n",
    "#df[\"title_clean\"][1]"
   ]
  },
  {
   "cell_type": "code",
   "execution_count": 40,
   "metadata": {
    "scrolled": true
   },
   "outputs": [],
   "source": [
    "#Rewriting df variable with our cleaned dataset. \n",
    "df= pd.read_csv(dataset)"
   ]
  },
  {
   "cell_type": "code",
   "execution_count": null,
   "metadata": {
    "scrolled": false
   },
   "outputs": [],
   "source": [
    "#df.head()"
   ]
  },
  {
   "cell_type": "markdown",
   "metadata": {},
   "source": [
    "### Exploratory Data Visualization"
   ]
  },
  {
   "cell_type": "code",
   "execution_count": null,
   "metadata": {
    "scrolled": false
   },
   "outputs": [],
   "source": [
    "### Word Cloud Generation Just to see:\n",
    "\n",
    "# Import the wordcloud library\n",
    "from wordcloud import WordCloud\n",
    "\n",
    "# Join the different processed titles together.\n",
    "#all_title = ','.join(list(df[\"title_clean\"].values))\n",
    "\n",
    "# Create a Title WordCloud object\n",
    "cloud=WordCloud(background_color=\"black\", max_words=1000)\n",
    "                       \n",
    "# Generate a word cloud\n",
    "cloud.generate(df[\"title_clean\"].to_string())\n",
    "\n",
    "# Visualize the word cloud\n",
    "cloud.to_image()\n"
   ]
  },
  {
   "cell_type": "code",
   "execution_count": null,
   "metadata": {},
   "outputs": [],
   "source": [
    "# Create an Abstract WordCloud object\n",
    "cloud=WordCloud(background_color=\"black\", max_words=1000)\n",
    "                       \n",
    "# Generate a word cloud\n",
    "cloud.generate(df[\"abstract_clean\"].to_string())\n",
    "\n",
    "# Visualize the word cloud\n",
    "cloud.to_image()\n"
   ]
  },
  {
   "cell_type": "markdown",
   "metadata": {},
   "source": [
    "There are a couple of intersting things we can begin to think about and question with this simple visualization. \n",
    "\n",
    "- We see words we expect to see like \"fairness\" and \"fair\"\n",
    "    - interstingly \"fair\" and \"fairness\" weren't lemmed to \"fair\" but we might consider them representing different uses/understandings \n",
    "        - where and how are we using \"fairness\" as opposed to \"fair\"?\n",
    "    - Also \"unfairness\" is interestingly small when compared to fair and fairness. SO those seem to be used at the same amounts (possibly even in similar functions/interchangeably?) but \"unfairness\"is beng used differently somewhat. \n",
    "    \n",
    "- The largest used terms are apparently functional terms liek \"model\" \"system\" \"classification\" etc. \n",
    "- It's interesting that words like \"social\" and \"representation\" have low occurence. \n",
    "\n",
    "\n",
    "    "
   ]
  },
  {
   "cell_type": "markdown",
   "metadata": {},
   "source": [
    "## Topic Modelling - Latent Dirlecht Allocation (LDA)"
   ]
  },
  {
   "cell_type": "markdown",
   "metadata": {},
   "source": [
    "Topic Modeling: A statistical modeling of the abstract topics that occur within a document (i.e. topics are \"latent\" within the document). In topic modeling we can understand a document as not only a collection of text but a distribution of \"topic\". \n",
    "\n",
    "Latent Dirlecht Allocation (LDA) is one type of model used in Topic Modelling. Our LDA model will build \"topics\" identify as cluster of words/tokens and then look at the distribution of topics throughout our documents. \n",
    "\n",
    "Our tasks in this section will be:\n",
    "- Preprocessing \n",
    "    - We'll preparing our data by creating a **Bag of Words** representation of our cleaned text data\n",
    "        \n",
    "            - the bag of words will require us to:\n",
    "                1. Make dictionary with all of the words in our corpus, numbered (and perhaps in alphabetical order)\n",
    "                2. A count of how often each word appears in each document\n",
    "                \n",
    "- Model Fitting:\n",
    "    - We'll build a pipeline \n",
    "Here we'll build a pipeline for fitting the LDA model. "
   ]
  },
  {
   "cell_type": "markdown",
   "metadata": {},
   "source": [
    "Returning to dictionary buildig let's look at our abstract data. Our LDA will require 3 things:\n",
    "\n",
    "1. a dictionary - this will hold all the possible words (and in this second trial bi-grams) in our text with an id. \n",
    "\n",
    "2. a corpus - this is our colecltion of text, in this case the abstract_clean column\n",
    "\n",
    "3. a Count of our term-document frequency. So the count of how many times a term (word or bigram) appears in a document (row of data)\n"
   ]
  },
  {
   "cell_type": "code",
   "execution_count": null,
   "metadata": {
    "scrolled": false
   },
   "outputs": [],
   "source": [
    "#Making a Document Term Matrix\n",
    "from sklearn.feature_extraction.text import CountVectorizer\n",
    "\n",
    "cv= CountVectorizer(stop_words=\"english\")\n",
    "\n",
    "title_cv = cv.fit_transform(df['title_clean'])\n",
    "\n",
    "dtm = pd.DataFrame(title_cv.toarray(), columns=cv.get_feature_names())\n",
    "dtm.index = df.index\n",
    "\n",
    "#Here is our document-term matrix \n",
    "dtm.head()"
   ]
  },
  {
   "cell_type": "code",
   "execution_count": null,
   "metadata": {
    "scrolled": true
   },
   "outputs": [],
   "source": [
    "#Apparently Gensim requires a term document matrix, where the index is our terms and the columns are documents.\n",
    "tdm=dtm.transpose()\n",
    "tdm.head()"
   ]
  },
  {
   "cell_type": "code",
   "execution_count": null,
   "metadata": {},
   "outputs": [],
   "source": [
    "df[\"title_clean\"][1]"
   ]
  },
  {
   "cell_type": "markdown",
   "metadata": {},
   "source": [
    "#### Working with Title Data:"
   ]
  },
  {
   "cell_type": "code",
   "execution_count": 45,
   "metadata": {},
   "outputs": [],
   "source": [
    "from gensim.utils import simple_preprocess\n",
    "\n",
    "\n",
    "def preprocess(text):\n",
    "   result = []\n",
    "   for token in gensim.utils.simple_preprocess(text):\n",
    "      #if token not in gensim.parsing.preprocessing.STOPWORDS and len(token) > 2:\n",
    "       if len(token) > 1: \n",
    "         result.append(token)\n",
    "   return result\n",
    "\n",
    "processed = df[\"title_clean\"].map(preprocess)\n",
    "\n",
    "\n",
    "dictionary = gensim.corpora.Dictionary(processed)\n"
   ]
  },
  {
   "cell_type": "code",
   "execution_count": 46,
   "metadata": {},
   "outputs": [],
   "source": [
    "from gensim import matutils, models\n",
    "import scipy.sparse\n",
    "\n",
    "#transposing our document term matrix to a form gensim accepts\n",
    "#so wher before x axis was a document and y axis was a word, these have been switched\n",
    "tdm=dtm.transpose()\n",
    "\n",
    "sparse_counts = scipy.sparse.csr_matrix(dtm)\n",
    "corpus = matutils.Sparse2Corpus(sparse_counts)"
   ]
  },
  {
   "cell_type": "code",
   "execution_count": 47,
   "metadata": {
    "scrolled": true
   },
   "outputs": [
    {
     "data": {
      "text/html": [
       "<div>\n",
       "<style scoped>\n",
       "    .dataframe tbody tr th:only-of-type {\n",
       "        vertical-align: middle;\n",
       "    }\n",
       "\n",
       "    .dataframe tbody tr th {\n",
       "        vertical-align: top;\n",
       "    }\n",
       "\n",
       "    .dataframe thead th {\n",
       "        text-align: right;\n",
       "    }\n",
       "</style>\n",
       "<table border=\"1\" class=\"dataframe\">\n",
       "  <thead>\n",
       "    <tr style=\"text-align: right;\">\n",
       "      <th></th>\n",
       "      <th>topics</th>\n",
       "      <th>terms</th>\n",
       "    </tr>\n",
       "  </thead>\n",
       "  <tbody>\n",
       "    <tr>\n",
       "      <th>0</th>\n",
       "      <td>0</td>\n",
       "      <td>0.023*\"explainable\" + 0.023*\"reframing\" + 0.022*\"un\" + 0.021*\"kidney\" + 0.020*\"diversity\" + 0.020*\"groupwise\" + 0.019*\"service\" + 0.018*\"model\" + 0.016*\"aggregation\" + 0.015*\"optimality\"</td>\n",
       "    </tr>\n",
       "    <tr>\n",
       "      <th>1</th>\n",
       "      <td>1</td>\n",
       "      <td>0.030*\"items\" + 0.028*\"intersectional\" + 0.023*\"measurement\" + 0.022*\"ordinal\" + 0.020*\"food\" + 0.020*\"mechanism\" + 0.020*\"application\" + 0.018*\"aware_machine\" + 0.018*\"problem\" + 0.017*\"outcome\"</td>\n",
       "    </tr>\n",
       "    <tr>\n",
       "      <th>2</th>\n",
       "      <td>2</td>\n",
       "      <td>0.026*\"toolkit\" + 0.026*\"cut\" + 0.026*\"query\" + 0.023*\"veil\" + 0.021*\"differences\" + 0.020*\"potentially\" + 0.019*\"term\" + 0.019*\"vote\" + 0.019*\"lecture\" + 0.017*\"product\"</td>\n",
       "    </tr>\n",
       "    <tr>\n",
       "      <th>3</th>\n",
       "      <td>3</td>\n",
       "      <td>0.025*\"properties\" + 0.021*\"supervise_learn\" + 0.020*\"expectation\" + 0.020*\"automate\" + 0.019*\"extensible\" + 0.019*\"fairmod\" + 0.018*\"everyday\" + 0.017*\"causal_model\" + 0.017*\"deep\" + 0.017*\"crowdsourcing\"</td>\n",
       "    </tr>\n",
       "    <tr>\n",
       "      <th>4</th>\n",
       "      <td>4</td>\n",
       "      <td>0.024*\"perspective\" + 0.023*\"public\" + 0.021*\"apply\" + 0.021*\"behind\" + 0.021*\"value\" + 0.019*\"aequitas\" + 0.018*\"social\" + 0.018*\"aware\" + 0.018*\"decision_make\" + 0.018*\"transportation\"</td>\n",
       "    </tr>\n",
       "  </tbody>\n",
       "</table>\n",
       "</div>"
      ],
      "text/plain": [
       "   topics  \\\n",
       "0       0   \n",
       "1       1   \n",
       "2       2   \n",
       "3       3   \n",
       "4       4   \n",
       "\n",
       "                                                                                                                                                                                                           terms  \n",
       "0                     0.023*\"explainable\" + 0.023*\"reframing\" + 0.022*\"un\" + 0.021*\"kidney\" + 0.020*\"diversity\" + 0.020*\"groupwise\" + 0.019*\"service\" + 0.018*\"model\" + 0.016*\"aggregation\" + 0.015*\"optimality\"  \n",
       "1            0.030*\"items\" + 0.028*\"intersectional\" + 0.023*\"measurement\" + 0.022*\"ordinal\" + 0.020*\"food\" + 0.020*\"mechanism\" + 0.020*\"application\" + 0.018*\"aware_machine\" + 0.018*\"problem\" + 0.017*\"outcome\"  \n",
       "2                                     0.026*\"toolkit\" + 0.026*\"cut\" + 0.026*\"query\" + 0.023*\"veil\" + 0.021*\"differences\" + 0.020*\"potentially\" + 0.019*\"term\" + 0.019*\"vote\" + 0.019*\"lecture\" + 0.017*\"product\"  \n",
       "3  0.025*\"properties\" + 0.021*\"supervise_learn\" + 0.020*\"expectation\" + 0.020*\"automate\" + 0.019*\"extensible\" + 0.019*\"fairmod\" + 0.018*\"everyday\" + 0.017*\"causal_model\" + 0.017*\"deep\" + 0.017*\"crowdsourcing\"  \n",
       "4                     0.024*\"perspective\" + 0.023*\"public\" + 0.021*\"apply\" + 0.021*\"behind\" + 0.021*\"value\" + 0.019*\"aequitas\" + 0.018*\"social\" + 0.018*\"aware\" + 0.018*\"decision_make\" + 0.018*\"transportation\"  "
      ]
     },
     "execution_count": 47,
     "metadata": {},
     "output_type": "execute_result"
    }
   ],
   "source": [
    "#texts = [[word for word in df[\"title_clean\"].split()]] \n",
    "#for document in documents]\n",
    "#dictionary = corpora.Dictionary(texts)\n",
    "#corpus = [dictionary.doc2bow(text) for text in texts]\n",
    "\n",
    "\n",
    "\n",
    "#title_dict = gensim.corpora.Dictionary(df[\"title_clean\"])\n",
    "\n",
    "#creating a bag of words of just title information\n",
    "#title_corpus = [title_dict.doc2bow(x) for x in df[\"title_clean\"]]\n",
    "#title_corpus = [title_dict.doc2bow(x) for x in texts]\n",
    "\n",
    "#Instantiating LDA model\n",
    "lda_t = gensim.models.ldamodel.LdaModel(id2word=dictionary, corpus=corpus, num_topics=5, passes=10)\n",
    "\n",
    "#Putting our Title topics in a dataframe\n",
    "title_topics = pd.DataFrame(lda_t.print_topics(num_words=10))\n",
    "title_topics.columns= [\"topics\", \"terms\"]\n",
    "title_topics"
   ]
  },
  {
   "cell_type": "code",
   "execution_count": null,
   "metadata": {},
   "outputs": [],
   "source": [
    "df[\"title_clean\"][1]"
   ]
  },
  {
   "cell_type": "markdown",
   "metadata": {},
   "source": [
    "#### Working with Abstract Data"
   ]
  },
  {
   "cell_type": "code",
   "execution_count": null,
   "metadata": {},
   "outputs": [],
   "source": [
    "#df.head()"
   ]
  },
  {
   "cell_type": "code",
   "execution_count": 48,
   "metadata": {},
   "outputs": [],
   "source": [
    "#Now doing everything we just did but for abstract data:\n",
    "\n",
    "#First getting a document term matrix and setting a sparse matrix corpus\n",
    "#cv = CountVectorizer(stop_words=\"english\")\n",
    "\n",
    "ab_cv = cv.fit_transform(df['abstract_clean'])\n",
    "\n",
    "ab_dtm = pd.DataFrame(ab_cv.toarray(), columns=cv.get_feature_names())\n",
    "ab_dtm.index = df.index"
   ]
  },
  {
   "cell_type": "code",
   "execution_count": 49,
   "metadata": {},
   "outputs": [],
   "source": [
    "#Next creating a sparse matrix corpus\n",
    "s_counts = scipy.sparse.csr_matrix(ab_dtm)\n",
    "ab_corpus = matutils.Sparse2Corpus(s_counts)"
   ]
  },
  {
   "cell_type": "code",
   "execution_count": 50,
   "metadata": {},
   "outputs": [],
   "source": [
    "#Creating our dictionary of tokens with ids\n",
    "def preprocess(text):\n",
    "   result = []\n",
    "   for token in gensim.utils.simple_preprocess(text):\n",
    "      \n",
    "       if len(token) > 1: \n",
    "         result.append(token)\n",
    "   return result\n",
    "\n",
    "abstracts = df[\"abstract_clean\"].map(preprocess)\n",
    "\n",
    "ab_dictionary = gensim.corpora.Dictionary(processed)\n"
   ]
  },
  {
   "cell_type": "code",
   "execution_count": 51,
   "metadata": {
    "scrolled": true
   },
   "outputs": [
    {
     "data": {
      "text/html": [
       "<div>\n",
       "<style scoped>\n",
       "    .dataframe tbody tr th:only-of-type {\n",
       "        vertical-align: middle;\n",
       "    }\n",
       "\n",
       "    .dataframe tbody tr th {\n",
       "        vertical-align: top;\n",
       "    }\n",
       "\n",
       "    .dataframe thead th {\n",
       "        text-align: right;\n",
       "    }\n",
       "</style>\n",
       "<table border=\"1\" class=\"dataframe\">\n",
       "  <thead>\n",
       "    <tr style=\"text-align: right;\">\n",
       "      <th></th>\n",
       "      <th>topics</th>\n",
       "      <th>terms</th>\n",
       "    </tr>\n",
       "  </thead>\n",
       "  <tbody>\n",
       "    <tr>\n",
       "      <th>0</th>\n",
       "      <td>0</td>\n",
       "      <td>0.028*\"embrace\" + 0.027*\"commerce\" + 0.022*\"application\" + 0.022*\"allocate\" + 0.021*\"responsible\" + 0.020*\"service\" + 0.019*\"judgement\" + 0.019*\"cut\" + 0.018*\"dominant\" + 0.018*\"max\"</td>\n",
       "    </tr>\n",
       "    <tr>\n",
       "      <th>1</th>\n",
       "      <td>1</td>\n",
       "      <td>0.031*\"deep\" + 0.022*\"causal_model\" + 0.021*\"toolkit\" + 0.020*\"welfare\" + 0.020*\"public\" + 0.020*\"potentially\" + 0.017*\"properties\" + 0.017*\"tolerant\" + 0.016*\"metrics\" + 0.016*\"recommendation\"</td>\n",
       "    </tr>\n",
       "    <tr>\n",
       "      <th>2</th>\n",
       "      <td>2</td>\n",
       "      <td>0.034*\"intersectional\" + 0.031*\"critically\" + 0.029*\"social\" + 0.026*\"attitudes\" + 0.025*\"un\" + 0.022*\"analysis\" + 0.022*\"nash\" + 0.022*\"predictive\" + 0.022*\"concentration\" + 0.020*\"software\"</td>\n",
       "    </tr>\n",
       "  </tbody>\n",
       "</table>\n",
       "</div>"
      ],
      "text/plain": [
       "   topics  \\\n",
       "0       0   \n",
       "1       1   \n",
       "2       2   \n",
       "\n",
       "                                                                                                                                                                                               terms  \n",
       "0             0.028*\"embrace\" + 0.027*\"commerce\" + 0.022*\"application\" + 0.022*\"allocate\" + 0.021*\"responsible\" + 0.020*\"service\" + 0.019*\"judgement\" + 0.019*\"cut\" + 0.018*\"dominant\" + 0.018*\"max\"  \n",
       "1  0.031*\"deep\" + 0.022*\"causal_model\" + 0.021*\"toolkit\" + 0.020*\"welfare\" + 0.020*\"public\" + 0.020*\"potentially\" + 0.017*\"properties\" + 0.017*\"tolerant\" + 0.016*\"metrics\" + 0.016*\"recommendation\"  \n",
       "2    0.034*\"intersectional\" + 0.031*\"critically\" + 0.029*\"social\" + 0.026*\"attitudes\" + 0.025*\"un\" + 0.022*\"analysis\" + 0.022*\"nash\" + 0.022*\"predictive\" + 0.022*\"concentration\" + 0.020*\"software\"  "
      ]
     },
     "execution_count": 51,
     "metadata": {},
     "output_type": "execute_result"
    }
   ],
   "source": [
    "#Finally instantiating LDA model and fitting to our abstract data. \n",
    "lda = gensim.models.ldamodel.LdaModel(id2word=ab_dictionary, corpus=ab_corpus, num_topics=3, passes=30)\n",
    "\n",
    "#Putting our Title topics in a dataframe\n",
    "abstract_topics = pd.DataFrame(lda.print_topics(num_words=10))\n",
    "abstract_topics.columns= [\"topics\", \"terms\"]\n",
    "abstract_topics"
   ]
  },
  {
   "cell_type": "code",
   "execution_count": 52,
   "metadata": {},
   "outputs": [],
   "source": [
    "#Saving my 3 topics as a csv\n",
    "#abstract_topics.to_csv(\"/Users/aster/Desktop/fall_2020/ML/final_project/pratt_ml_final_project/data/abstract_topics.csv\")\n",
    "\n",
    "#Saving my abstract topics model\n",
    "lda.save(\"abstracts.model\")"
   ]
  },
  {
   "cell_type": "code",
   "execution_count": null,
   "metadata": {},
   "outputs": [],
   "source": []
  },
  {
   "cell_type": "code",
   "execution_count": 54,
   "metadata": {},
   "outputs": [
    {
     "name": "stderr",
     "output_type": "stream",
     "text": [
      "/Users/aster/opt/anaconda3/envs/pratt_ml/lib/python3.8/site-packages/ipykernel/ipkernel.py:287: DeprecationWarning: `should_run_async` will not call `transform_cell` automatically in the future. Please pass the result to `transformed_cell` argument and any exception that happen during thetransform in `preprocessing_exc_tuple` in IPython 7.17 and above.\n",
      "  and should_run_async(code)\n"
     ]
    },
    {
     "data": {
      "text/html": [
       "\n",
       "<link rel=\"stylesheet\" type=\"text/css\" href=\"https://cdn.rawgit.com/bmabey/pyLDAvis/files/ldavis.v1.0.0.css\">\n",
       "\n",
       "\n",
       "<div id=\"ldavis_el298441402483106716167587845354\"></div>\n",
       "<script type=\"text/javascript\">\n",
       "\n",
       "var ldavis_el298441402483106716167587845354_data = {\"mdsDat\": {\"x\": [-0.1283019343345273, -0.21305935116172448, 0.3413612854962518], \"y\": [-0.2992151389082007, 0.253472429180938, 0.04574270972726286], \"topics\": [1, 2, 3], \"cluster\": [1, 1, 1], \"Freq\": [37.16294310615499, 34.19885376892823, 28.638203124916785]}, \"tinfo\": {\"Term\": [\"intersectional\", \"deep\", \"critically\", \"social\", \"embrace\", \"commerce\", \"attitudes\", \"un\", \"application\", \"analysis\", \"allocate\", \"nash\", \"causal_model\", \"predictive\", \"concentration\", \"responsible\", \"toolkit\", \"welfare\", \"public\", \"software\", \"service\", \"potentially\", \"goals\", \"group\", \"counterfactual\", \"cut\", \"query\", \"maximin\", \"dominant\", \"fair_division\", \"embrace\", \"commerce\", \"allocate\", \"application\", \"responsible\", \"dominant\", \"service\", \"max\", \"cut\", \"handle\", \"educational\", \"veil\", \"applications\", \"discrimination\", \"constraints\", \"binary\", \"differentiable\", \"recall\", \"fair\", \"food\", \"bayesian\", \"measurement\", \"task\", \"examine\", \"collaborative\", \"term\", \"program\", \"object\", \"verification\", \"automate\", \"groupwise\", \"lend\", \"two\", \"bank\", \"stable\", \"algorithm\", \"judgement\", \"additive\", \"safeguard\", \"deep\", \"causal_model\", \"welfare\", \"potentially\", \"properties\", \"metrics\", \"tolerant\", \"public\", \"problem\", \"recommendation\", \"active\", \"value\", \"direct\", \"lexicographic\", \"result\", \"accuracy\", \"right\", \"diversity\", \"comparison\", \"aware\", \"ai\", \"aggregation\", \"reason\", \"product\", \"meta\", \"assignment\", \"allocation\", \"bound\", \"approach\", \"filter\", \"toolkit\", \"outcome\", \"exchange\", \"model\", \"regression\", \"challenge\", \"non\", \"intersectional\", \"critically\", \"social\", \"attitudes\", \"un\", \"nash\", \"analysis\", \"concentration\", \"goals\", \"predictive\", \"software\", \"group\", \"mechanism\", \"fair_division\", \"query\", \"apply\", \"items\", \"prediction\", \"counterfactual\", \"noise\", \"generalize\", \"fairly\", \"unfair\", \"algorithms\", \"vote\", \"probabilistic\", \"learn\", \"incentive\", \"formalize\", \"indivisible\", \"trust\", \"maximin\", \"convexity\", \"principles\", \"make\", \"multiple\"], \"Freq\": [172.0, 185.0, 154.0, 146.0, 180.0, 178.0, 133.0, 124.0, 146.0, 113.0, 144.0, 112.0, 129.0, 110.0, 109.0, 136.0, 129.0, 123.0, 122.0, 102.0, 129.0, 118.0, 100.0, 96.0, 95.0, 121.0, 94.0, 99.0, 120.0, 94.0, 179.7227808338212, 177.8180424427588, 143.79930445878313, 145.58677359927438, 135.71969365920376, 119.73749371160133, 128.96625082878498, 117.8136316362871, 120.75622476442835, 103.13162352256539, 105.59755821324231, 98.81318215531067, 99.19120903702115, 97.83190873815613, 100.53643994175425, 89.18935815186558, 90.86258332601618, 86.67950824090381, 81.246067388694, 76.46350003651993, 78.67857913078764, 84.00947013742706, 75.74097346921906, 77.27130559985879, 92.7064150911862, 71.41215015266751, 72.1381272449541, 65.95100790268499, 69.49393770453061, 70.20579680374182, 73.9209977104204, 72.19434407280248, 78.26332545838612, 77.95455814597534, 85.18753282639058, 79.66248904062493, 121.6301795646854, 80.07359357822848, 77.65514613018077, 184.7958287246281, 129.0781086804754, 122.94672342867644, 118.09962954876066, 103.88747363802274, 98.44599235430906, 100.04273905869546, 121.28247894849665, 93.13649901878833, 93.92772232499514, 91.96516607474027, 90.52616201898414, 89.58292616354974, 87.98056675691913, 82.90103209352537, 78.56571715021363, 78.78192917411498, 78.96807634476001, 80.8467830721455, 82.97382951247364, 77.28243203968896, 76.8392521760318, 75.87538237240682, 77.47912259323496, 74.10913653251806, 75.88929673085885, 69.0081852732104, 68.22421822946671, 68.81095804693985, 68.27564936556902, 127.62058382538156, 83.27977209785087, 82.7721747362256, 91.95187783446687, 80.55912090144813, 76.66473850475948, 75.98681463718151, 172.13665669543707, 154.25055600966198, 145.92666768537765, 133.18040618165264, 123.4110902317798, 112.04598121195058, 112.70787941180018, 108.53053824011485, 99.64912743041508, 109.46322531804705, 101.69337654360498, 95.3666708886228, 89.51899995316965, 93.42222847760982, 93.96143746307608, 85.96754792161795, 86.61433467519048, 87.0919649852142, 94.61397293289032, 84.11066576189562, 83.85392097886604, 78.62383444200515, 81.07359275575641, 79.607801192341, 77.96740875786122, 78.77759855737582, 77.28875127124833, 69.81059835105783, 71.45459543660122, 54.66040441573962, 73.74205082518957, 97.14265906083965, 95.32149571620221, 77.80569568469052, 80.38358764034068, 92.42558459080608], \"Total\": [172.0, 185.0, 154.0, 146.0, 180.0, 178.0, 133.0, 124.0, 146.0, 113.0, 144.0, 112.0, 129.0, 110.0, 109.0, 136.0, 129.0, 123.0, 122.0, 102.0, 129.0, 118.0, 100.0, 96.0, 95.0, 121.0, 94.0, 99.0, 120.0, 94.0, 180.40408353689403, 178.5208035797085, 144.48201343448875, 146.29934358646543, 136.42152825077213, 120.40557215416372, 129.68845946646564, 118.49909263398006, 121.52034331102645, 103.83803806341177, 106.32339771874675, 99.52381238132442, 99.91576811377809, 98.56031406966541, 101.28721520978033, 89.91111133134547, 91.60849871647204, 87.42602205166828, 81.98183393670136, 77.15642180690496, 79.40098829624733, 84.79867702690554, 76.45345329692074, 78.02944833597238, 93.64134984827771, 72.13983394263644, 72.87389847204832, 66.63465670513988, 70.21432865426452, 70.93612674850571, 74.70300079197163, 72.95144251651764, 79.15286369845313, 79.13927759114962, 89.16160035122329, 82.20635072474292, 157.6301893814437, 88.58337309256218, 93.98540244890323, 185.46376227246463, 129.76109327887986, 123.64090482953362, 118.81484218563341, 104.61704706805713, 99.15563109204336, 100.77234532611675, 122.1761239482678, 93.82401407096465, 94.62982863143654, 92.67290346501444, 91.24059070724533, 90.32725566447819, 88.71382606711272, 83.60883989070511, 79.25249703729905, 79.47774405394067, 79.67084543943574, 81.57029390301874, 83.71922078248114, 77.97716987929145, 77.54500640143559, 76.57695921489155, 78.20142087617938, 74.81385389270956, 76.61931689454671, 69.69533354906542, 68.91978255151683, 69.5129872573294, 68.98766825213251, 129.14052516177867, 85.12042047662072, 103.52892943570825, 154.25009096251836, 111.35053430968753, 95.32436999014094, 124.25178582751509, 172.88845201334792, 154.9969847241493, 146.6814387738629, 133.89347187857007, 124.1174864151732, 112.744717564272, 113.42196814972675, 109.28371237691357, 100.35389746865673, 110.26207414904867, 102.4455977383487, 96.07820494043004, 90.2052640451884, 94.15969288317073, 94.70769845680105, 86.66682208083859, 87.33282170189696, 87.81578033817216, 95.41730182153391, 84.83556039973324, 84.57726826427879, 79.31606702135517, 81.80277279506946, 80.32425137133968, 78.68177196703154, 79.51911502858661, 78.04006858918646, 70.53651318094134, 72.1981162579443, 55.3701642419995, 74.80814530028309, 99.31322536529925, 98.37871840177603, 80.57896822646264, 85.3144496548864, 152.43954744996142], \"Category\": [\"Default\", \"Default\", \"Default\", \"Default\", \"Default\", \"Default\", \"Default\", \"Default\", \"Default\", \"Default\", \"Default\", \"Default\", \"Default\", \"Default\", \"Default\", \"Default\", \"Default\", \"Default\", \"Default\", \"Default\", \"Default\", \"Default\", \"Default\", \"Default\", \"Default\", \"Default\", \"Default\", \"Default\", \"Default\", \"Default\", \"Topic1\", \"Topic1\", \"Topic1\", \"Topic1\", \"Topic1\", \"Topic1\", \"Topic1\", \"Topic1\", \"Topic1\", \"Topic1\", \"Topic1\", \"Topic1\", \"Topic1\", \"Topic1\", \"Topic1\", \"Topic1\", \"Topic1\", \"Topic1\", \"Topic1\", \"Topic1\", \"Topic1\", \"Topic1\", \"Topic1\", \"Topic1\", \"Topic1\", \"Topic1\", \"Topic1\", \"Topic1\", \"Topic1\", \"Topic1\", \"Topic1\", \"Topic1\", \"Topic1\", \"Topic1\", \"Topic1\", \"Topic1\", \"Topic1\", \"Topic1\", \"Topic1\", \"Topic2\", \"Topic2\", \"Topic2\", \"Topic2\", \"Topic2\", \"Topic2\", \"Topic2\", \"Topic2\", \"Topic2\", \"Topic2\", \"Topic2\", \"Topic2\", \"Topic2\", \"Topic2\", \"Topic2\", \"Topic2\", \"Topic2\", \"Topic2\", \"Topic2\", \"Topic2\", \"Topic2\", \"Topic2\", \"Topic2\", \"Topic2\", \"Topic2\", \"Topic2\", \"Topic2\", \"Topic2\", \"Topic2\", \"Topic2\", \"Topic2\", \"Topic2\", \"Topic2\", \"Topic2\", \"Topic2\", \"Topic2\", \"Topic2\", \"Topic3\", \"Topic3\", \"Topic3\", \"Topic3\", \"Topic3\", \"Topic3\", \"Topic3\", \"Topic3\", \"Topic3\", \"Topic3\", \"Topic3\", \"Topic3\", \"Topic3\", \"Topic3\", \"Topic3\", \"Topic3\", \"Topic3\", \"Topic3\", \"Topic3\", \"Topic3\", \"Topic3\", \"Topic3\", \"Topic3\", \"Topic3\", \"Topic3\", \"Topic3\", \"Topic3\", \"Topic3\", \"Topic3\", \"Topic3\", \"Topic3\", \"Topic3\", \"Topic3\", \"Topic3\", \"Topic3\", \"Topic3\"], \"logprob\": [30.0, 29.0, 28.0, 27.0, 26.0, 25.0, 24.0, 23.0, 22.0, 21.0, 20.0, 19.0, 18.0, 17.0, 16.0, 15.0, 14.0, 13.0, 12.0, 11.0, 10.0, 9.0, 8.0, 7.0, 6.0, 5.0, 4.0, 3.0, 2.0, 1.0, -3.591599941253662, -3.602299928665161, -3.8145999908447266, -3.802299976348877, -3.872499942779541, -3.99780011177063, -3.9235000610351562, -4.013999938964844, -3.989300012588501, -4.14709997177124, -4.1234002113342285, -4.189799785614014, -4.185999870300293, -4.19980001449585, -4.172500133514404, -4.292300224304199, -4.27370023727417, -4.320799827575684, -4.3856000900268555, -4.446300029754639, -4.417699813842773, -4.352099895477295, -4.455699920654297, -4.435699939727783, -4.253600120544434, -4.514599800109863, -4.504499912261963, -4.594200134277344, -4.541800022125244, -4.531599998474121, -4.480100154876709, -4.503699779510498, -4.422999858856201, -4.4268999099731445, -4.338200092315674, -4.405300140380859, -3.982100009918213, -4.400100231170654, -4.430799961090088, -3.4807000160217285, -3.8394999504089355, -3.888200044631958, -3.9284000396728516, -4.056600093841553, -4.110400199890137, -4.094299793243408, -3.9017999172210693, -4.165900230407715, -4.157400131225586, -4.178500175476074, -4.194300174713135, -4.204800128936768, -4.222799777984619, -4.282299995422363, -4.335999965667725, -4.3333001136779785, -4.330900192260742, -4.307400226593018, -4.281400203704834, -4.352499961853027, -4.3582000732421875, -4.3709001541137695, -4.349899768829346, -4.394400119781494, -4.370699882507324, -4.465700149536133, -4.477099895477295, -4.468599796295166, -4.476399898529053, -3.8508999347686768, -4.277699947357178, -4.283899784088135, -4.178699970245361, -4.310999870300293, -4.360499858856201, -4.3694000244140625, -3.3742001056671143, -3.4839000701904297, -3.539400100708008, -3.6308000087738037, -3.7070000171661377, -3.8036000728607178, -3.7976999282836914, -3.8355000019073486, -3.920799970626831, -3.826900005340576, -3.9005000591278076, -3.9647998809814453, -4.0279998779296875, -3.9853999614715576, -3.979599952697754, -4.06850004196167, -4.060999870300293, -4.055500030517578, -3.9727001190185547, -4.090400218963623, -4.093400001525879, -4.157800197601318, -4.127099990844727, -4.145400047302246, -4.166200160980225, -4.155900001525879, -4.174900054931641, -4.276700019836426, -4.253399848937988, -4.521399974822998, -4.22189998626709, -3.9463000297546387, -3.9651999473571777, -4.168300151824951, -4.135700225830078, -3.9960999488830566], \"loglift\": [30.0, 29.0, 28.0, 27.0, 26.0, 25.0, 24.0, 23.0, 22.0, 21.0, 20.0, 19.0, 18.0, 17.0, 16.0, 15.0, 14.0, 13.0, 12.0, 11.0, 10.0, 9.0, 8.0, 7.0, 6.0, 5.0, 4.0, 3.0, 2.0, 1.0, 0.9861, 0.9859, 0.9851, 0.985, 0.9847, 0.9843, 0.9843, 0.9841, 0.9836, 0.983, 0.983, 0.9827, 0.9826, 0.9824, 0.9824, 0.9818, 0.9817, 0.9813, 0.9808, 0.9808, 0.9807, 0.9805, 0.9805, 0.9801, 0.9798, 0.9797, 0.9797, 0.9795, 0.9795, 0.9795, 0.9793, 0.9794, 0.9786, 0.9748, 0.9443, 0.9584, 0.7306, 0.8889, 0.799, 1.0694, 1.0677, 1.0673, 1.0669, 1.066, 1.0658, 1.0657, 1.0656, 1.0656, 1.0655, 1.0653, 1.0651, 1.0647, 1.0647, 1.0645, 1.0643, 1.0642, 1.0641, 1.0641, 1.064, 1.064, 1.0638, 1.0638, 1.0637, 1.0635, 1.0634, 1.0631, 1.0628, 1.0628, 1.0626, 1.0611, 1.0511, 0.8492, 0.5557, 0.7493, 0.8551, 0.5812, 1.2461, 1.2456, 1.2453, 1.2451, 1.2447, 1.2442, 1.2441, 1.2435, 1.2434, 1.2432, 1.2431, 1.243, 1.2428, 1.2426, 1.2425, 1.2423, 1.2422, 1.2422, 1.242, 1.2418, 1.2418, 1.2417, 1.2415, 1.2415, 1.2413, 1.2411, 1.2408, 1.2401, 1.2401, 1.2375, 1.2361, 1.2283, 1.2189, 1.2154, 1.1909, 0.7501]}, \"token.table\": {\"Topic\": [2, 2, 1, 2, 2, 2, 1, 2, 3, 1, 2, 3, 1, 1, 3, 2, 2, 3, 1, 2, 1, 3, 1, 1, 2, 2, 1, 2, 3, 1, 2, 1, 2, 3, 1, 1, 3, 3, 3, 1, 2, 1, 2, 1, 2, 1, 1, 1, 1, 1, 2, 1, 3, 3, 2, 1, 3, 3, 3, 3, 1, 1, 3, 3, 3, 3, 1, 2, 3, 1, 2, 2, 3, 1, 2, 3, 1, 3, 2, 2, 2, 3, 1, 3, 3, 3, 1, 2, 1, 1, 2, 2, 3, 3, 1, 2, 3, 3, 2, 2, 1, 2, 1, 2, 3, 2, 1, 2, 1, 2, 1, 2, 2, 1, 2, 3, 1, 3, 3, 1, 3, 1, 1, 2, 2, 3, 1, 3, 1, 2, 3, 3, 2, 1, 1, 3, 2], \"Freq\": [0.9968140178954839, 0.9927389405116839, 0.9031040161047685, 0.09031040161047686, 0.9929717408415161, 0.9874685131455256, 0.9731608238865803, 0.02432902059716451, 0.9959632195034017, 0.9966638516239441, 0.9900232409595126, 0.9962796611925326, 0.997953896585404, 0.9908345986718006, 0.9923059128645954, 0.9926202674123272, 0.991916961418501, 0.9933269944678081, 0.9868032441096676, 0.9914091319083127, 0.9856041446696624, 0.012635950572687979, 0.994949832428392, 0.9898665324245878, 0.9866543027638065, 0.9941346573179364, 0.18882894271277822, 0.8077682549379958, 0.01049049681737657, 0.9931509974032107, 0.010679042982830221, 0.9970826728915323, 0.993008558928367, 0.997403891478951, 0.9971643488352853, 0.030494400097265763, 0.9656560030800825, 0.9956265602404644, 0.993567715359601, 0.995718055949738, 0.9974994453537327, 0.993357617197119, 0.9963769998095172, 0.9943150133504104, 0.9915797876157132, 0.9966316164035628, 0.9969583579373354, 0.9977601197879127, 0.9868069253605399, 0.19318271819298638, 0.8017082805008935, 0.9880237622220132, 0.9876837652326497, 0.9960150946305738, 0.9856834086851171, 0.9850119824141266, 0.9834051590257042, 0.9931746641133526, 0.9964735054882422, 0.9887778404988047, 0.990589390191576, 0.9919293730983245, 0.9923938233299813, 0.9933147346216697, 0.9948611257547767, 0.9961890421560748, 0.7739634170252535, 0.2283826476467961, 0.9866726335844024, 0.9869578656199675, 0.9919536097273868, 0.05860671926298506, 0.9377075082077609, 0.9957882155644714, 0.020138304769012308, 0.976707781297097, 0.9905814918945949, 0.9977244781958005, 0.9891216151773613, 0.9883452802496853, 0.596434008083375, 0.40194465762140485, 0.3935986494560745, 0.6035179291659809, 0.9933946567044487, 0.9901508235957163, 0.3863123550323297, 0.6116612288011887, 0.9904755762763475, 0.011748062267557305, 0.9750891682072562, 0.9931419158529006, 0.9907103218233596, 0.9885538689636598, 0.024820372412552034, 0.012410186206276017, 0.9679945240895292, 0.993471820852131, 0.9912174502538188, 0.9846368408307867, 0.9880080729812538, 0.9941018496951485, 0.008184905263678386, 0.9903735369050847, 0.9925275508925617, 0.9924656290768549, 0.9951270566626432, 0.9933442906898882, 0.2694194525961066, 0.7274325220094878, 0.9969101046134209, 0.992717996189147, 0.9939889580457086, 0.8299161142860034, 0.01063995018315389, 0.15959925274730835, 0.9946914361594089, 0.9953542944522553, 0.9956503964232141, 0.953325194536325, 0.04486236209582706, 0.9940688971214986, 0.9841996594621661, 0.9923357412828162, 0.9911683403768887, 0.007743502659194443, 0.01336752830839419, 0.9891970948211701, 0.9854349717169404, 0.012633781688678724, 0.9909965432957996, 0.990186484300715, 0.9973631176060961, 0.9947368135445069, 0.9827054010550486, 0.9913350710083498, 0.994816401332413], \"Term\": [\"accuracy\", \"active\", \"additive\", \"additive\", \"aggregation\", \"ai\", \"algorithm\", \"algorithm\", \"algorithms\", \"allocate\", \"allocation\", \"analysis\", \"application\", \"applications\", \"apply\", \"approach\", \"assignment\", \"attitudes\", \"automate\", \"aware\", \"bank\", \"bank\", \"bayesian\", \"binary\", \"bound\", \"causal_model\", \"challenge\", \"challenge\", \"challenge\", \"collaborative\", \"collaborative\", \"commerce\", \"comparison\", \"concentration\", \"constraints\", \"convexity\", \"convexity\", \"counterfactual\", \"critically\", \"cut\", \"deep\", \"differentiable\", \"direct\", \"discrimination\", \"diversity\", \"dominant\", \"educational\", \"embrace\", \"examine\", \"exchange\", \"exchange\", \"fair\", \"fair_division\", \"fairly\", \"filter\", \"food\", \"formalize\", \"generalize\", \"goals\", \"group\", \"groupwise\", \"handle\", \"incentive\", \"indivisible\", \"intersectional\", \"items\", \"judgement\", \"judgement\", \"learn\", \"lend\", \"lexicographic\", \"make\", \"make\", \"max\", \"maximin\", \"maximin\", \"measurement\", \"mechanism\", \"meta\", \"metrics\", \"model\", \"model\", \"multiple\", \"multiple\", \"nash\", \"noise\", \"non\", \"non\", \"object\", \"outcome\", \"outcome\", \"potentially\", \"prediction\", \"predictive\", \"principles\", \"principles\", \"principles\", \"probabilistic\", \"problem\", \"product\", \"program\", \"properties\", \"public\", \"public\", \"query\", \"reason\", \"recall\", \"recommendation\", \"regression\", \"regression\", \"responsible\", \"result\", \"right\", \"safeguard\", \"safeguard\", \"safeguard\", \"service\", \"social\", \"software\", \"stable\", \"stable\", \"task\", \"term\", \"tolerant\", \"toolkit\", \"toolkit\", \"trust\", \"trust\", \"two\", \"two\", \"un\", \"unfair\", \"value\", \"veil\", \"verification\", \"vote\", \"welfare\"]}, \"R\": 30, \"lambda.step\": 0.01, \"plot.opts\": {\"xlab\": \"PC1\", \"ylab\": \"PC2\"}, \"topic.order\": [1, 2, 3]};\n",
       "\n",
       "function LDAvis_load_lib(url, callback){\n",
       "  var s = document.createElement('script');\n",
       "  s.src = url;\n",
       "  s.async = true;\n",
       "  s.onreadystatechange = s.onload = callback;\n",
       "  s.onerror = function(){console.warn(\"failed to load library \" + url);};\n",
       "  document.getElementsByTagName(\"head\")[0].appendChild(s);\n",
       "}\n",
       "\n",
       "if(typeof(LDAvis) !== \"undefined\"){\n",
       "   // already loaded: just create the visualization\n",
       "   !function(LDAvis){\n",
       "       new LDAvis(\"#\" + \"ldavis_el298441402483106716167587845354\", ldavis_el298441402483106716167587845354_data);\n",
       "   }(LDAvis);\n",
       "}else if(typeof define === \"function\" && define.amd){\n",
       "   // require.js is available: use it to load d3/LDAvis\n",
       "   require.config({paths: {d3: \"https://cdnjs.cloudflare.com/ajax/libs/d3/3.5.5/d3.min\"}});\n",
       "   require([\"d3\"], function(d3){\n",
       "      window.d3 = d3;\n",
       "      LDAvis_load_lib(\"https://cdn.rawgit.com/bmabey/pyLDAvis/files/ldavis.v1.0.0.js\", function(){\n",
       "        new LDAvis(\"#\" + \"ldavis_el298441402483106716167587845354\", ldavis_el298441402483106716167587845354_data);\n",
       "      });\n",
       "    });\n",
       "}else{\n",
       "    // require.js not available: dynamically load d3 & LDAvis\n",
       "    LDAvis_load_lib(\"https://cdnjs.cloudflare.com/ajax/libs/d3/3.5.5/d3.min.js\", function(){\n",
       "         LDAvis_load_lib(\"https://cdn.rawgit.com/bmabey/pyLDAvis/files/ldavis.v1.0.0.js\", function(){\n",
       "                 new LDAvis(\"#\" + \"ldavis_el298441402483106716167587845354\", ldavis_el298441402483106716167587845354_data);\n",
       "            })\n",
       "         });\n",
       "}\n",
       "</script>"
      ],
      "text/plain": [
       "<IPython.core.display.HTML object>"
      ]
     },
     "execution_count": 54,
     "metadata": {},
     "output_type": "execute_result"
    }
   ],
   "source": [
    "#Importing pyLDAvis libraries\n",
    "import pyLDAvis\n",
    "import pyLDAvis.gensim\n",
    "\n",
    "model = models.LdaModel.load(\"abstracts.model\")\n",
    "#instantiating pyLDAvis and setting to variable\n",
    "vis = pyLDAvis.gensim.prepare(topic_model= model, \n",
    "                              corpus=ab_corpus, \n",
    "                              dictionary=ab_dictionary)\n",
    "\n",
    "pyLDAvis.enable_notebook()\n",
    "pyLDAvis.display(vis)"
   ]
  },
  {
   "cell_type": "code",
   "execution_count": null,
   "metadata": {},
   "outputs": [],
   "source": []
  }
 ],
 "metadata": {
  "kernelspec": {
   "display_name": "Python 3",
   "language": "python",
   "name": "python3"
  },
  "language_info": {
   "codemirror_mode": {
    "name": "ipython",
    "version": 3
   },
   "file_extension": ".py",
   "mimetype": "text/x-python",
   "name": "python",
   "nbconvert_exporter": "python",
   "pygments_lexer": "ipython3",
   "version": "3.8.5"
  }
 },
 "nbformat": 4,
 "nbformat_minor": 4
}
