{
 "cells": [
  {
   "cell_type": "code",
   "execution_count": 1,
   "metadata": {},
   "outputs": [],
   "source": [
    "import json\n",
    "import csv\n",
    "import pandas as pd\n",
    "import numpy as np\n",
    "import nltk\n",
    "import string\n",
    "import re\n",
    "\n",
    "pd.set_option('display.max_rows', None)\n",
    "pd.set_option('display.max_columns', None)\n",
    "pd.set_option('display.width', None)\n",
    "pd.set_option('display.max_colwidth', None)\n",
    "\n"
   ]
  },
  {
   "cell_type": "code",
   "execution_count": 2,
   "metadata": {
    "scrolled": true
   },
   "outputs": [
    {
     "name": "stderr",
     "output_type": "stream",
     "text": [
      "/Users/aster/opt/anaconda3/envs/pratt_ml/lib/python3.8/site-packages/IPython/core/interactiveshell.py:3145: DtypeWarning: Columns (0) have mixed types.Specify dtype option on import or set low_memory=False.\n",
      "  has_raised = await self.run_ast_nodes(code_ast.body, cell_name,\n"
     ]
    }
   ],
   "source": [
    "#Brining in arxiv metadata as CSV\n",
    "df = pd.read_csv(\"/Users/aster/Desktop/Fall 2020/ML/Final Project/arxiv_metadata.csv\")"
   ]
  },
  {
   "cell_type": "code",
   "execution_count": 3,
   "metadata": {},
   "outputs": [],
   "source": [
    "#df.head()"
   ]
  },
  {
   "cell_type": "markdown",
   "metadata": {},
   "source": [
    "### Data Cleaning\n",
    "\n",
    "Now that we have the arxiv metadata snapshot as a csv we can make 2 corpus, one with abstract data and one with title; which we'll preprocess and fit our model. For this project we're particularly interested in how machine learning practitioners are thinking and talking about \"fairness\". WE're trying to see if we can identify types of approaches to fairness in the form of subjects. \n",
    "\n",
    "Our data subset will include papers: \n",
    "- With \"fair\" in the title\n",
    "- With machine learning (cs.LG) and artificial intelligence (cs.AI) in the categories column"
   ]
  },
  {
   "cell_type": "code",
   "execution_count": 32,
   "metadata": {},
   "outputs": [
    {
     "data": {
      "text/plain": [
       "(1611, 14)"
      ]
     },
     "execution_count": 32,
     "metadata": {},
     "output_type": "execute_result"
    }
   ],
   "source": [
    "df.shape"
   ]
  },
  {
   "cell_type": "code",
   "execution_count": 5,
   "metadata": {},
   "outputs": [
    {
     "data": {
      "text/html": [
       "<div>\n",
       "<style scoped>\n",
       "    .dataframe tbody tr th:only-of-type {\n",
       "        vertical-align: middle;\n",
       "    }\n",
       "\n",
       "    .dataframe tbody tr th {\n",
       "        vertical-align: top;\n",
       "    }\n",
       "\n",
       "    .dataframe thead th {\n",
       "        text-align: right;\n",
       "    }\n",
       "</style>\n",
       "<table border=\"1\" class=\"dataframe\">\n",
       "  <thead>\n",
       "    <tr style=\"text-align: right;\">\n",
       "      <th></th>\n",
       "      <th>id</th>\n",
       "      <th>submitter</th>\n",
       "      <th>authors</th>\n",
       "      <th>title</th>\n",
       "      <th>comments</th>\n",
       "      <th>journal-ref</th>\n",
       "      <th>doi</th>\n",
       "      <th>report-no</th>\n",
       "      <th>categories</th>\n",
       "      <th>license</th>\n",
       "      <th>abstract</th>\n",
       "      <th>versions</th>\n",
       "      <th>update_date</th>\n",
       "      <th>authors_parsed</th>\n",
       "    </tr>\n",
       "  </thead>\n",
       "  <tbody>\n",
       "    <tr>\n",
       "      <th>1841</th>\n",
       "      <td>704.184</td>\n",
       "      <td>Inanc Inan</td>\n",
       "      <td>Feyza Keceli, Inanc Inan, Ender Ayanoglu</td>\n",
       "      <td>Fairness Provision in the IEEE 802.11e Infrastructure Basic Service Set</td>\n",
       "      <td>NaN</td>\n",
       "      <td>NaN</td>\n",
       "      <td>NaN</td>\n",
       "      <td>NaN</td>\n",
       "      <td>cs.OH</td>\n",
       "      <td>NaN</td>\n",
       "      <td>Most of the deployed IEEE 802.11e Wireless Local Area Networks (WLANs) use\\ninfrastructure Basic Service Set (BSS) in which an Access Point (AP) serves as\\na gateway between wired and wireless domains. We present the unfairness problem\\nbetween the uplink and the downlink flows of any Access Category (AC) in the\\n802.11e Enhanced Distributed Channel Access (EDCA) when the default settings of\\nthe EDCA parameters are used. We propose a simple analytical model to calculate\\nthe EDCA parameter settings that achieve weighted fair resource allocation for\\nall uplink and downlink flows. We also propose a simple model-assisted\\nmeasurement-based dynamic EDCA parameter adaptation algorithm. Moreover, our\\ndynamic solution addresses the differences in the transport layer and the\\nMedium Access Control (MAC) layer interactions of User Datagram Protocol (UDP)\\nand Transmission Control Protocol (TCP). We show that proposed Contention\\nWindow (CW) and Transmit Opportunity (TXOP) limit adaptation at the AP provides\\nfair UDP and TCP access between uplink and downlink flows of the same AC while\\npreserving prioritization among ACs.\\n</td>\n",
       "      <td>[{'version': 'v1', 'created': 'Fri, 13 Apr 2007 23:11:27 GMT'}, {'version': 'v2', 'created': 'Thu, 13 Sep 2007 15:08:17 GMT'}]</td>\n",
       "      <td>2007-09-13</td>\n",
       "      <td>[['Keceli', 'Feyza', ''], ['Inan', 'Inanc', ''], ['Ayanoglu', 'Ender', '']]</td>\n",
       "    </tr>\n",
       "    <tr>\n",
       "      <th>4441</th>\n",
       "      <td>705.044</td>\n",
       "      <td>Marco Genovese</td>\n",
       "      <td>G. Brida, M. Genovese, F.Piacentini</td>\n",
       "      <td>Experimental local realism tests without fair sampling assumption</td>\n",
       "      <td>NaN</td>\n",
       "      <td>EPJD, Vol. 4, Issue 3 (2007)</td>\n",
       "      <td>10.1140/epjd/e2007-00194-5</td>\n",
       "      <td>NaN</td>\n",
       "      <td>quant-ph</td>\n",
       "      <td>NaN</td>\n",
       "      <td>Following the theoretical suggestion of Ref. [1,2], we present experimental\\nresults addressed to test restricted families of local realistic models, but\\nwithout relying on the fair sampling assumption.\\n</td>\n",
       "      <td>[{'version': 'v1', 'created': 'Thu, 3 May 2007 12:17:51 GMT'}, {'version': 'v2', 'created': 'Thu, 10 May 2007 08:39:19 GMT'}]</td>\n",
       "      <td>2009-11-13</td>\n",
       "      <td>[['Brida', 'G.', ''], ['Genovese', 'M.', ''], ['Piacentini', 'F.', '']]</td>\n",
       "    </tr>\n",
       "    <tr>\n",
       "      <th>5479</th>\n",
       "      <td>705.148</td>\n",
       "      <td>Guillaume Adenier</td>\n",
       "      <td>Guillaume Adenier</td>\n",
       "      <td>Quantum entanglement, fair sampling, and reality: Is the moon there when\\n  nobody looks?</td>\n",
       "      <td>13 pages, 8 Figures, 1 Table</td>\n",
       "      <td>Am. J. Phys. Vol 76, 2, 147-152 (2008)</td>\n",
       "      <td>10.1119/1.2825326</td>\n",
       "      <td>NaN</td>\n",
       "      <td>quant-ph</td>\n",
       "      <td>NaN</td>\n",
       "      <td>In 1981, David Mermin described a cleverly simplified version of Bell's\\ntheorem. It pointed out in a straightforward way that interpreting entanglement\\nfrom a local realist point of view can be problematic. I propose here an\\nextended version of Mermin's device that can actually be given a simple local\\nrealist interpretation through a sample selection bias, and I argue that we\\nstill have no scientific reason to believe that the moon could possibly not be\\nthere when nobody looks.\\n</td>\n",
       "      <td>[{'version': 'v1', 'created': 'Thu, 10 May 2007 13:53:04 GMT'}, {'version': 'v2', 'created': 'Fri, 29 Jun 2007 22:06:00 GMT'}, {'version': 'v3', 'created': 'Fri, 10 Aug 2007 15:59:02 GMT'}]</td>\n",
       "      <td>2008-03-06</td>\n",
       "      <td>[['Adenier', 'Guillaume', '']]</td>\n",
       "    </tr>\n",
       "    <tr>\n",
       "      <th>10777</th>\n",
       "      <td>706.209</td>\n",
       "      <td>Qingfeng Li</td>\n",
       "      <td>Qingfeng Li, Marcus Bleicher, and Horst Stoecker</td>\n",
       "      <td>Pion freeze-out as seen through HBT correlations in heavy ion collisions\\n  from FAIR/AGS to RHIC energies</td>\n",
       "      <td>11 pages, 2 figs</td>\n",
       "      <td>J.Phys.G34:2037-2044,2007</td>\n",
       "      <td>10.1088/0954-3899/34/9/012</td>\n",
       "      <td>NaN</td>\n",
       "      <td>nucl-th</td>\n",
       "      <td>NaN</td>\n",
       "      <td>We perform a systematic analysis of several HBT parameters in heavy ion\\ncollisions from $E_{\\rm beam}=2$ AGeV to $\\sqrt {s_{\\rm NN}}=200$ GeV within\\nthe UrQMD transport approach and compare the results to experimental data where\\navailable. We find that the 'lifetime' of the emission source as calculated\\nfrom $\\tau \\sim \\sqrt{R_O^{2}-R_S^{2}}$, is larger than the experimentally\\nobserved values at all investigated energies. The calculated volume of the pion\\nsource ($V_f$) is found to increase monotonously with increasing beam energy\\nand the experimentally observed decrease of the measured $V_f$ at AGS is not\\nseen. Finally, we calculate the mean free path $\\lambda_f=0.5-1$ fm of pions at\\nfreeze-out and find a good description of the experimental data above the AGS\\nenergy region, supporting the suggestion of a universal kinetic decoupling\\ncriterion up to the highest RHIC energies.\\n</td>\n",
       "      <td>[{'version': 'v1', 'created': 'Thu, 14 Jun 2007 11:18:21 GMT'}, {'version': 'v2', 'created': 'Fri, 6 Jul 2007 13:18:21 GMT'}]</td>\n",
       "      <td>2008-11-26</td>\n",
       "      <td>[['Li', 'Qingfeng', ''], ['Bleicher', 'Marcus', ''], ['Stoecker', 'Horst', '']]</td>\n",
       "    </tr>\n",
       "    <tr>\n",
       "      <th>17712</th>\n",
       "      <td>707.454</td>\n",
       "      <td>Laurent Massouli\\'{e}</td>\n",
       "      <td>Laurent Massouli\\'e</td>\n",
       "      <td>Structural properties of proportional fairness: stability and\\n  insensitivity</td>\n",
       "      <td>Published at http://dx.doi.org/10.1214/105051606000000907 in the\\n  Annals of Applied Probability (http://www.imstat.org/aap/) by the Institute\\n  of Mathematical Statistics (http://www.imstat.org)</td>\n",
       "      <td>Annals of Applied Probability 2007, Vol. 17, No. 3, 809-839</td>\n",
       "      <td>10.1214/105051606000000907</td>\n",
       "      <td>IMS-AAP-AAP0220</td>\n",
       "      <td>math.PR</td>\n",
       "      <td>NaN</td>\n",
       "      <td>In this article we provide a novel characterization of the proportionally\\nfair bandwidth allocation of network capacities, in terms of the\\nFenchel--Legendre transform of the network capacity region. We use this\\ncharacterization to prove stability (i.e., ergodicity) of network dynamics\\nunder proportionally fair sharing, by exhibiting a suitable Lyapunov function.\\nOur stability result extends previously known results to a more general model\\nincluding Markovian users routing. In particular, it implies that the stability\\ncondition previously known under exponential service time distributions remains\\nvalid under so-called phase-type service time distributions. We then exhibit a\\nmodification of proportional fairness, which coincides with it in some\\nasymptotic sense, is reversible (and thus insensitive), and has explicit\\nstationary distribution. Finally we show that the stationary distributions\\nunder modified proportional fairness and balanced fairness, a sharing criterion\\nproposed because of its insensitivity properties, admit the same large\\ndeviations characteristics. These results show that proportional fairness is an\\nattractive bandwidth allocation criterion, combining the desirable properties\\nof ease of implementation with performance and insensitivity.\\n</td>\n",
       "      <td>[{'version': 'v1', 'created': 'Tue, 31 Jul 2007 06:30:27 GMT'}]</td>\n",
       "      <td>2009-09-29</td>\n",
       "      <td>[['Massoulié', 'Laurent', '']]</td>\n",
       "    </tr>\n",
       "  </tbody>\n",
       "</table>\n",
       "</div>"
      ],
      "text/plain": [
       "            id              submitter  \\\n",
       "1841   704.184             Inanc Inan   \n",
       "4441   705.044         Marco Genovese   \n",
       "5479   705.148      Guillaume Adenier   \n",
       "10777  706.209            Qingfeng Li   \n",
       "17712  707.454  Laurent Massouli\\'{e}   \n",
       "\n",
       "                                                authors  \\\n",
       "1841           Feyza Keceli, Inanc Inan, Ender Ayanoglu   \n",
       "4441                G. Brida, M. Genovese, F.Piacentini   \n",
       "5479                                  Guillaume Adenier   \n",
       "10777  Qingfeng Li, Marcus Bleicher, and Horst Stoecker   \n",
       "17712                               Laurent Massouli\\'e   \n",
       "\n",
       "                                                                                                            title  \\\n",
       "1841                                      Fairness Provision in the IEEE 802.11e Infrastructure Basic Service Set   \n",
       "4441                                            Experimental local realism tests without fair sampling assumption   \n",
       "5479                    Quantum entanglement, fair sampling, and reality: Is the moon there when\\n  nobody looks?   \n",
       "10777  Pion freeze-out as seen through HBT correlations in heavy ion collisions\\n  from FAIR/AGS to RHIC energies   \n",
       "17712                              Structural properties of proportional fairness: stability and\\n  insensitivity   \n",
       "\n",
       "                                                                                                                                                                                                    comments  \\\n",
       "1841                                                                                                                                                                                                     NaN   \n",
       "4441                                                                                                                                                                                                     NaN   \n",
       "5479                                                                                                                                                                            13 pages, 8 Figures, 1 Table   \n",
       "10777                                                                                                                                                                                       11 pages, 2 figs   \n",
       "17712  Published at http://dx.doi.org/10.1214/105051606000000907 in the\\n  Annals of Applied Probability (http://www.imstat.org/aap/) by the Institute\\n  of Mathematical Statistics (http://www.imstat.org)   \n",
       "\n",
       "                                                       journal-ref  \\\n",
       "1841                                                           NaN   \n",
       "4441                                  EPJD, Vol. 4, Issue 3 (2007)   \n",
       "5479                        Am. J. Phys. Vol 76, 2, 147-152 (2008)   \n",
       "10777                                    J.Phys.G34:2037-2044,2007   \n",
       "17712  Annals of Applied Probability 2007, Vol. 17, No. 3, 809-839   \n",
       "\n",
       "                              doi        report-no categories license  \\\n",
       "1841                          NaN              NaN      cs.OH     NaN   \n",
       "4441   10.1140/epjd/e2007-00194-5              NaN   quant-ph     NaN   \n",
       "5479            10.1119/1.2825326              NaN   quant-ph     NaN   \n",
       "10777  10.1088/0954-3899/34/9/012              NaN    nucl-th     NaN   \n",
       "17712  10.1214/105051606000000907  IMS-AAP-AAP0220    math.PR     NaN   \n",
       "\n",
       "                                                                                                                                                                                                                                                                                                                                                                                                                                                                                                                                                                                                                                                                                                                                                                                                                                                                                                                                                                                                                                                                                                                                                                                                                                                                                                                                          abstract  \\\n",
       "1841                                                                                                                                                              Most of the deployed IEEE 802.11e Wireless Local Area Networks (WLANs) use\\ninfrastructure Basic Service Set (BSS) in which an Access Point (AP) serves as\\na gateway between wired and wireless domains. We present the unfairness problem\\nbetween the uplink and the downlink flows of any Access Category (AC) in the\\n802.11e Enhanced Distributed Channel Access (EDCA) when the default settings of\\nthe EDCA parameters are used. We propose a simple analytical model to calculate\\nthe EDCA parameter settings that achieve weighted fair resource allocation for\\nall uplink and downlink flows. We also propose a simple model-assisted\\nmeasurement-based dynamic EDCA parameter adaptation algorithm. Moreover, our\\ndynamic solution addresses the differences in the transport layer and the\\nMedium Access Control (MAC) layer interactions of User Datagram Protocol (UDP)\\nand Transmission Control Protocol (TCP). We show that proposed Contention\\nWindow (CW) and Transmit Opportunity (TXOP) limit adaptation at the AP provides\\nfair UDP and TCP access between uplink and downlink flows of the same AC while\\npreserving prioritization among ACs.\\n   \n",
       "4441                                                                                                                                                                                                                                                                                                                                                                                                                                                                                                                                                                                                                                                                                                                                                                                                                                                                                                                                                                                                                                                                                                                                 Following the theoretical suggestion of Ref. [1,2], we present experimental\\nresults addressed to test restricted families of local realistic models, but\\nwithout relying on the fair sampling assumption.\\n   \n",
       "5479                                                                                                                                                                                                                                                                                                                                                                                                                                                                                                                                                                                                                                                                                                                                                                                                                                    In 1981, David Mermin described a cleverly simplified version of Bell's\\ntheorem. It pointed out in a straightforward way that interpreting entanglement\\nfrom a local realist point of view can be problematic. I propose here an\\nextended version of Mermin's device that can actually be given a simple local\\nrealist interpretation through a sample selection bias, and I argue that we\\nstill have no scientific reason to believe that the moon could possibly not be\\nthere when nobody looks.\\n   \n",
       "10777                                                                                                                                                                                                                                                                                                                                                                                                       We perform a systematic analysis of several HBT parameters in heavy ion\\ncollisions from $E_{\\rm beam}=2$ AGeV to $\\sqrt {s_{\\rm NN}}=200$ GeV within\\nthe UrQMD transport approach and compare the results to experimental data where\\navailable. We find that the 'lifetime' of the emission source as calculated\\nfrom $\\tau \\sim \\sqrt{R_O^{2}-R_S^{2}}$, is larger than the experimentally\\nobserved values at all investigated energies. The calculated volume of the pion\\nsource ($V_f$) is found to increase monotonously with increasing beam energy\\nand the experimentally observed decrease of the measured $V_f$ at AGS is not\\nseen. Finally, we calculate the mean free path $\\lambda_f=0.5-1$ fm of pions at\\nfreeze-out and find a good description of the experimental data above the AGS\\nenergy region, supporting the suggestion of a universal kinetic decoupling\\ncriterion up to the highest RHIC energies.\\n   \n",
       "17712    In this article we provide a novel characterization of the proportionally\\nfair bandwidth allocation of network capacities, in terms of the\\nFenchel--Legendre transform of the network capacity region. We use this\\ncharacterization to prove stability (i.e., ergodicity) of network dynamics\\nunder proportionally fair sharing, by exhibiting a suitable Lyapunov function.\\nOur stability result extends previously known results to a more general model\\nincluding Markovian users routing. In particular, it implies that the stability\\ncondition previously known under exponential service time distributions remains\\nvalid under so-called phase-type service time distributions. We then exhibit a\\nmodification of proportional fairness, which coincides with it in some\\nasymptotic sense, is reversible (and thus insensitive), and has explicit\\nstationary distribution. Finally we show that the stationary distributions\\nunder modified proportional fairness and balanced fairness, a sharing criterion\\nproposed because of its insensitivity properties, admit the same large\\ndeviations characteristics. These results show that proportional fairness is an\\nattractive bandwidth allocation criterion, combining the desirable properties\\nof ease of implementation with performance and insensitivity.\\n   \n",
       "\n",
       "                                                                                                                                                                                            versions  \\\n",
       "1841                                                                  [{'version': 'v1', 'created': 'Fri, 13 Apr 2007 23:11:27 GMT'}, {'version': 'v2', 'created': 'Thu, 13 Sep 2007 15:08:17 GMT'}]   \n",
       "4441                                                                   [{'version': 'v1', 'created': 'Thu, 3 May 2007 12:17:51 GMT'}, {'version': 'v2', 'created': 'Thu, 10 May 2007 08:39:19 GMT'}]   \n",
       "5479   [{'version': 'v1', 'created': 'Thu, 10 May 2007 13:53:04 GMT'}, {'version': 'v2', 'created': 'Fri, 29 Jun 2007 22:06:00 GMT'}, {'version': 'v3', 'created': 'Fri, 10 Aug 2007 15:59:02 GMT'}]   \n",
       "10777                                                                  [{'version': 'v1', 'created': 'Thu, 14 Jun 2007 11:18:21 GMT'}, {'version': 'v2', 'created': 'Fri, 6 Jul 2007 13:18:21 GMT'}]   \n",
       "17712                                                                                                                                [{'version': 'v1', 'created': 'Tue, 31 Jul 2007 06:30:27 GMT'}]   \n",
       "\n",
       "      update_date  \\\n",
       "1841   2007-09-13   \n",
       "4441   2009-11-13   \n",
       "5479   2008-03-06   \n",
       "10777  2008-11-26   \n",
       "17712  2009-09-29   \n",
       "\n",
       "                                                                        authors_parsed  \n",
       "1841       [['Keceli', 'Feyza', ''], ['Inan', 'Inanc', ''], ['Ayanoglu', 'Ender', '']]  \n",
       "4441           [['Brida', 'G.', ''], ['Genovese', 'M.', ''], ['Piacentini', 'F.', '']]  \n",
       "5479                                                    [['Adenier', 'Guillaume', '']]  \n",
       "10777  [['Li', 'Qingfeng', ''], ['Bleicher', 'Marcus', ''], ['Stoecker', 'Horst', '']]  \n",
       "17712                                                   [['Massoulié', 'Laurent', '']]  "
      ]
     },
     "execution_count": 5,
     "metadata": {},
     "output_type": "execute_result"
    }
   ],
   "source": [
    "#Papers that have fair in title\n",
    "df=df[df['title'].str.lower().str.contains(\"fair\")]\n",
    "df.head()"
   ]
  },
  {
   "cell_type": "code",
   "execution_count": 6,
   "metadata": {},
   "outputs": [
    {
     "data": {
      "text/plain": [
       "(218, 14)"
      ]
     },
     "execution_count": 6,
     "metadata": {},
     "output_type": "execute_result"
    }
   ],
   "source": [
    "#Papers including fair in the title that are in our categories of interest\n",
    "df = df[df[\"categories\"].str.lower().str.contains(\"cs.ai\", \"cs.lg\")]\n",
    "df.shape"
   ]
  },
  {
   "cell_type": "code",
   "execution_count": 7,
   "metadata": {},
   "outputs": [
    {
     "data": {
      "text/plain": [
       "(21, 14)"
      ]
     },
     "execution_count": 7,
     "metadata": {},
     "output_type": "execute_result"
    }
   ],
   "source": [
    "df1.shape"
   ]
  },
  {
   "cell_type": "code",
   "execution_count": 8,
   "metadata": {},
   "outputs": [
    {
     "data": {
      "text/html": [
       "<div>\n",
       "<style scoped>\n",
       "    .dataframe tbody tr th:only-of-type {\n",
       "        vertical-align: middle;\n",
       "    }\n",
       "\n",
       "    .dataframe tbody tr th {\n",
       "        vertical-align: top;\n",
       "    }\n",
       "\n",
       "    .dataframe thead th {\n",
       "        text-align: right;\n",
       "    }\n",
       "</style>\n",
       "<table border=\"1\" class=\"dataframe\">\n",
       "  <thead>\n",
       "    <tr style=\"text-align: right;\">\n",
       "      <th></th>\n",
       "      <th>abstract</th>\n",
       "    </tr>\n",
       "  </thead>\n",
       "  <tbody>\n",
       "    <tr>\n",
       "      <th>342381</th>\n",
       "      <td>measurement professionals cannot come to an ...</td>\n",
       "    </tr>\n",
       "    <tr>\n",
       "      <th>439783</th>\n",
       "      <td>in electronic marketplaces, after each trans...</td>\n",
       "    </tr>\n",
       "    <tr>\n",
       "      <th>625995</th>\n",
       "      <td>our study revisits the problem of accuracy-f...</td>\n",
       "    </tr>\n",
       "    <tr>\n",
       "      <th>866227</th>\n",
       "      <td>various measures can be used to estimate bia...</td>\n",
       "    </tr>\n",
       "    <tr>\n",
       "      <th>974262</th>\n",
       "      <td>terms of service of on-line platforms too of...</td>\n",
       "    </tr>\n",
       "  </tbody>\n",
       "</table>\n",
       "</div>"
      ],
      "text/plain": [
       "                                                 abstract\n",
       "342381    measurement professionals cannot come to an ...\n",
       "439783    in electronic marketplaces, after each trans...\n",
       "625995    our study revisits the problem of accuracy-f...\n",
       "866227    various measures can be used to estimate bia...\n",
       "974262    terms of service of on-line platforms too of..."
      ]
     },
     "execution_count": 8,
     "metadata": {},
     "output_type": "execute_result"
    }
   ],
   "source": [
    "#corpus_abs will be our abstract information with the article id as the index\n",
    "corpus_abs = pd.DataFrame(df1[\"abstract\"].str.lower()) #.str.lower here makes all text lowwercase \n",
    "corpus_abs.set_index(df1[\"id\"])\n",
    "\n",
    "corpus_abs.head()"
   ]
  },
  {
   "cell_type": "code",
   "execution_count": 9,
   "metadata": {},
   "outputs": [
    {
     "data": {
      "text/html": [
       "<div>\n",
       "<style scoped>\n",
       "    .dataframe tbody tr th:only-of-type {\n",
       "        vertical-align: middle;\n",
       "    }\n",
       "\n",
       "    .dataframe tbody tr th {\n",
       "        vertical-align: top;\n",
       "    }\n",
       "\n",
       "    .dataframe thead th {\n",
       "        text-align: right;\n",
       "    }\n",
       "</style>\n",
       "<table border=\"1\" class=\"dataframe\">\n",
       "  <thead>\n",
       "    <tr style=\"text-align: right;\">\n",
       "      <th></th>\n",
       "      <th>title</th>\n",
       "    </tr>\n",
       "  </thead>\n",
       "  <tbody>\n",
       "    <tr>\n",
       "      <th>342381</th>\n",
       "      <td>unfair items detection in educational measurement</td>\n",
       "    </tr>\n",
       "    <tr>\n",
       "      <th>439783</th>\n",
       "      <td>safeguarding e-commerce against advisor cheati...</td>\n",
       "    </tr>\n",
       "    <tr>\n",
       "      <th>625995</th>\n",
       "      <td>on the relation between accuracy and fairness ...</td>\n",
       "    </tr>\n",
       "    <tr>\n",
       "      <th>866227</th>\n",
       "      <td>the impossibility of \"fairness\": a generalized...</td>\n",
       "    </tr>\n",
       "    <tr>\n",
       "      <th>974262</th>\n",
       "      <td>claudette: an automated detector of potentiall...</td>\n",
       "    </tr>\n",
       "  </tbody>\n",
       "</table>\n",
       "</div>"
      ],
      "text/plain": [
       "                                                    title\n",
       "342381  unfair items detection in educational measurement\n",
       "439783  safeguarding e-commerce against advisor cheati...\n",
       "625995  on the relation between accuracy and fairness ...\n",
       "866227  the impossibility of \"fairness\": a generalized...\n",
       "974262  claudette: an automated detector of potentiall..."
      ]
     },
     "execution_count": 9,
     "metadata": {},
     "output_type": "execute_result"
    }
   ],
   "source": [
    "#corpus_ttl will be our title information with the article id as the index\n",
    "corpus_ttl = pd.DataFrame(df1[\"title\"].str.lower()) #.str.lower here makes all text lowwercase \n",
    "corpus_ttl.set_index(df1[\"id\"])\n",
    "\n",
    "corpus_ttl.head()"
   ]
  },
  {
   "cell_type": "code",
   "execution_count": 21,
   "metadata": {},
   "outputs": [
    {
     "data": {
      "text/html": [
       "<div>\n",
       "<style scoped>\n",
       "    .dataframe tbody tr th:only-of-type {\n",
       "        vertical-align: middle;\n",
       "    }\n",
       "\n",
       "    .dataframe tbody tr th {\n",
       "        vertical-align: top;\n",
       "    }\n",
       "\n",
       "    .dataframe thead th {\n",
       "        text-align: right;\n",
       "    }\n",
       "</style>\n",
       "<table border=\"1\" class=\"dataframe\">\n",
       "  <thead>\n",
       "    <tr style=\"text-align: right;\">\n",
       "      <th></th>\n",
       "      <th>title</th>\n",
       "      <th>abstract</th>\n",
       "    </tr>\n",
       "  </thead>\n",
       "  <tbody>\n",
       "    <tr>\n",
       "      <th>342381</th>\n",
       "      <td>unfair items detection in educational measurement</td>\n",
       "      <td>measurement professionals cannot come to an agreement on the definition of\\nthe term 'item fairness'. in this paper a continuous measure of item unfairness\\nis proposed. the more the unfairness measure deviates from zero, the less fair\\nthe item is. if the measure exceeds the cutoff value, the item is identified as\\ndefinitely unfair. the new approach can identify unfair items that would not be\\nidentified with conventional procedures. the results are in accord with\\nexperts' judgments on the item qualities. since no assumptions about scores\\ndistributions and/or correlations are assumed, the method is applicable to any\\neducational test. its performance is illustrated through application to scores\\nof a real test.\\n</td>\n",
       "    </tr>\n",
       "    <tr>\n",
       "      <th>439783</th>\n",
       "      <td>safeguarding ecommerce against advisor cheating behaviors towards more   robust trust models for handling unfair ratings</td>\n",
       "      <td>in electronic marketplaces, after each transaction buyers will rate the\\nproducts provided by the sellers. to decide the most trustworthy sellers to\\ntransact with, buyers rely on trust models to leverage these ratings to\\nevaluate the reputation of sellers. although the high effectiveness of\\ndifferent trust models for handling unfair ratings have been claimed by their\\ndesigners, recently it is argued that these models are vulnerable to more\\nintelligent attacks, and there is an urgent demand that the robustness of the\\nexisting trust models has to be evaluated in a more comprehensive way. in this\\nwork, we classify the existing trust models into two broad categories and\\npropose an extendable e-marketplace testbed to evaluate their robustness\\nagainst different unfair rating attacks comprehensively. on top of highlighting\\nthe robustness of the existing trust models for handling unfair ratings is far\\nfrom what they were claimed to be, we further propose and validate a novel\\ncombination mechanism for the existing trust models, discount-then-filter, to\\nnotably enhance their robustness against the investigated attacks.\\n</td>\n",
       "    </tr>\n",
       "    <tr>\n",
       "      <th>625995</th>\n",
       "      <td>on the relation between accuracy and fairness in binary classification</td>\n",
       "      <td>our study revisits the problem of accuracy-fairness tradeoff in binary\\nclassification. we argue that comparison of non-discriminatory classifiers\\nneeds to account for different rates of positive predictions, otherwise\\nconclusions about performance may be misleading, because accuracy and\\ndiscrimination of naive baselines on the same dataset vary with different rates\\nof positive predictions. we provide methodological recommendations for sound\\ncomparison of non-discriminatory classifiers, and present a brief theoretical\\nand empirical analysis of tradeoffs between accuracy and non-discrimination.\\n</td>\n",
       "    </tr>\n",
       "    <tr>\n",
       "      <th>866227</th>\n",
       "      <td>the impossibility of fairness a generalized impossibility result for   decisions</td>\n",
       "      <td>various measures can be used to estimate bias or unfairness in a predictor.\\nprevious work has already established that some of these measures are\\nincompatible with each other. here we show that, when groups differ in\\nprevalence of the predicted event, several intuitive, reasonable measures of\\nfairness (probability of positive prediction given occurrence or\\nnon-occurrence; probability of occurrence given prediction or non-prediction;\\nand ratio of predictions over occurrences for each group) are all mutually\\nexclusive: if one of them is equal among groups, the other two must differ. the\\nonly exceptions are for perfect, or trivial (always-positive or\\nalways-negative) predictors. as a consequence, any non-perfect, non-trivial\\npredictor must necessarily be \"unfair\" under two out of three reasonable sets\\nof criteria. this result readily generalizes to a wide range of well-known\\nstatistical quantities (sensitivity, specificity, false positive rate,\\nprecision, etc.), all of which can be divided into three mutually exclusive\\ngroups. importantly, the results applies to all predictors, whether algorithmic\\nor human. we conclude with possible ways to handle this effect when assessing\\nand designing prediction methods.\\n</td>\n",
       "    </tr>\n",
       "    <tr>\n",
       "      <th>974262</th>\n",
       "      <td>claudette an automated detector of potentially unfair clauses in online   terms of service</td>\n",
       "      <td>terms of service of on-line platforms too often contain clauses that are\\npotentially unfair to the consumer. we present an experimental study where\\nmachine learning is employed to automatically detect such potentially unfair\\nclauses. results show that the proposed system could provide a valuable tool\\nfor lawyers and consumers alike.\\n</td>\n",
       "    </tr>\n",
       "  </tbody>\n",
       "</table>\n",
       "</div>"
      ],
      "text/plain": [
       "                                                                                                                           title  \\\n",
       "342381                                                                         unfair items detection in educational measurement   \n",
       "439783  safeguarding ecommerce against advisor cheating behaviors towards more   robust trust models for handling unfair ratings   \n",
       "625995                                                    on the relation between accuracy and fairness in binary classification   \n",
       "866227                                          the impossibility of fairness a generalized impossibility result for   decisions   \n",
       "974262                                claudette an automated detector of potentially unfair clauses in online   terms of service   \n",
       "\n",
       "                                                                                                                                                                                                                                                                                                                                                                                                                                                                                                                                                                                                                                                                                                                                                                                                                                                                                                                                                                                                                                                                                                                                                                                                                                                                                           abstract  \n",
       "342381                                                                                                                                                                                                                                                                                                                                                                                                                                                                                                                                       measurement professionals cannot come to an agreement on the definition of\\nthe term 'item fairness'. in this paper a continuous measure of item unfairness\\nis proposed. the more the unfairness measure deviates from zero, the less fair\\nthe item is. if the measure exceeds the cutoff value, the item is identified as\\ndefinitely unfair. the new approach can identify unfair items that would not be\\nidentified with conventional procedures. the results are in accord with\\nexperts' judgments on the item qualities. since no assumptions about scores\\ndistributions and/or correlations are assumed, the method is applicable to any\\neducational test. its performance is illustrated through application to scores\\nof a real test.\\n  \n",
       "439783                                                                                                        in electronic marketplaces, after each transaction buyers will rate the\\nproducts provided by the sellers. to decide the most trustworthy sellers to\\ntransact with, buyers rely on trust models to leverage these ratings to\\nevaluate the reputation of sellers. although the high effectiveness of\\ndifferent trust models for handling unfair ratings have been claimed by their\\ndesigners, recently it is argued that these models are vulnerable to more\\nintelligent attacks, and there is an urgent demand that the robustness of the\\nexisting trust models has to be evaluated in a more comprehensive way. in this\\nwork, we classify the existing trust models into two broad categories and\\npropose an extendable e-marketplace testbed to evaluate their robustness\\nagainst different unfair rating attacks comprehensively. on top of highlighting\\nthe robustness of the existing trust models for handling unfair ratings is far\\nfrom what they were claimed to be, we further propose and validate a novel\\ncombination mechanism for the existing trust models, discount-then-filter, to\\nnotably enhance their robustness against the investigated attacks.\\n  \n",
       "625995                                                                                                                                                                                                                                                                                                                                                                                                                                                                                                                                                                                                                                                             our study revisits the problem of accuracy-fairness tradeoff in binary\\nclassification. we argue that comparison of non-discriminatory classifiers\\nneeds to account for different rates of positive predictions, otherwise\\nconclusions about performance may be misleading, because accuracy and\\ndiscrimination of naive baselines on the same dataset vary with different rates\\nof positive predictions. we provide methodological recommendations for sound\\ncomparison of non-discriminatory classifiers, and present a brief theoretical\\nand empirical analysis of tradeoffs between accuracy and non-discrimination.\\n  \n",
       "866227    various measures can be used to estimate bias or unfairness in a predictor.\\nprevious work has already established that some of these measures are\\nincompatible with each other. here we show that, when groups differ in\\nprevalence of the predicted event, several intuitive, reasonable measures of\\nfairness (probability of positive prediction given occurrence or\\nnon-occurrence; probability of occurrence given prediction or non-prediction;\\nand ratio of predictions over occurrences for each group) are all mutually\\nexclusive: if one of them is equal among groups, the other two must differ. the\\nonly exceptions are for perfect, or trivial (always-positive or\\nalways-negative) predictors. as a consequence, any non-perfect, non-trivial\\npredictor must necessarily be \"unfair\" under two out of three reasonable sets\\nof criteria. this result readily generalizes to a wide range of well-known\\nstatistical quantities (sensitivity, specificity, false positive rate,\\nprecision, etc.), all of which can be divided into three mutually exclusive\\ngroups. importantly, the results applies to all predictors, whether algorithmic\\nor human. we conclude with possible ways to handle this effect when assessing\\nand designing prediction methods.\\n  \n",
       "974262                                                                                                                                                                                                                                                                                                                                                                                                                                                                                                                                                                                                                                                                                                                                                                                                                                                                                                                                         terms of service of on-line platforms too often contain clauses that are\\npotentially unfair to the consumer. we present an experimental study where\\nmachine learning is employed to automatically detect such potentially unfair\\nclauses. results show that the proposed system could provide a valuable tool\\nfor lawyers and consumers alike.\\n  "
      ]
     },
     "execution_count": 21,
     "metadata": {},
     "output_type": "execute_result"
    }
   ],
   "source": [
    "#we'll also create a dataframe that has abstract and title together so we can join the string together easily if we need\n",
    "corpus = corpus_ttl\n",
    "#corpus.set_index(df1[\"id\"])\n",
    "corpus[\"abstract\"] = corpus_abs\n",
    "\n",
    "corpus.head()"
   ]
  },
  {
   "cell_type": "code",
   "execution_count": null,
   "metadata": {},
   "outputs": [],
   "source": [
    "# corpus - abstract and title together with paper id\n",
    "# corpus_abs - abstract data\n",
    "# corpus_ttl - title data\n"
   ]
  },
  {
   "cell_type": "markdown",
   "metadata": {},
   "source": [
    "### Our Data"
   ]
  },
  {
   "cell_type": "markdown",
   "metadata": {},
   "source": [
    "Now that we have our data in one place we can move unto cleaning. \n",
    "\n",
    "- [x] I'd like to get rid of puntuations.  \n",
    "- [x] I'd like to get rid of \"/n\"\n",
    "- []I'd like to get rid of numbers\n"
   ]
  },
  {
   "cell_type": "code",
   "execution_count": 28,
   "metadata": {},
   "outputs": [],
   "source": [
    "#removing punctuations \n",
    "corpus_ttl['title'] = corpus_ttl['title'].str.replace('[^\\w\\s]','')\n",
    "corpus_abs['abstract'] = corpus_abs['abstract'].str.replace('[^\\w\\s]','')\n",
    "corpus[\"abstract\"] = corpus[\"abstract\"].str.replace('[^\\w\\s]','')\n",
    "\n",
    "#removing \"/n \"\n",
    "corpus_ttl['title'] = corpus_ttl[\"title\"].replace(\"\\n\",\" \", regex=True)\n",
    "corpus_abs['abstract'] = corpus_abs['abstract'].replace(\"\\n\",\" \", regex=True)\n",
    "corpus[\"abstract\"] = corpus[\"abstract\"].replace(\"\\n\",\" \", regex=True)\n",
    "\n",
    "#removing numerals\n",
    "corpus_ttl['title'] = corpus_ttl[\"title\"].str.replace('\\d+', '')\n",
    "corpus_abs['abstract'] = corpus_abs['abstract'].str.replace('\\d+', '')\n",
    "corpus[\"abstract\"] = corpus[\"abstract\"].str.replace('\\d+', '')"
   ]
  },
  {
   "cell_type": "code",
   "execution_count": 29,
   "metadata": {},
   "outputs": [
    {
     "data": {
      "text/html": [
       "<div>\n",
       "<style scoped>\n",
       "    .dataframe tbody tr th:only-of-type {\n",
       "        vertical-align: middle;\n",
       "    }\n",
       "\n",
       "    .dataframe tbody tr th {\n",
       "        vertical-align: top;\n",
       "    }\n",
       "\n",
       "    .dataframe thead th {\n",
       "        text-align: right;\n",
       "    }\n",
       "</style>\n",
       "<table border=\"1\" class=\"dataframe\">\n",
       "  <thead>\n",
       "    <tr style=\"text-align: right;\">\n",
       "      <th></th>\n",
       "      <th>title</th>\n",
       "      <th>abstract</th>\n",
       "    </tr>\n",
       "  </thead>\n",
       "  <tbody>\n",
       "    <tr>\n",
       "      <th>342381</th>\n",
       "      <td>unfair items detection in educational measurement</td>\n",
       "      <td>measurement professionals cannot come to an agreement on the definition of the term item fairness in this paper a continuous measure of item unfairness is proposed the more the unfairness measure deviates from zero the less fair the item is if the measure exceeds the cutoff value the item is identified as definitely unfair the new approach can identify unfair items that would not be identified with conventional procedures the results are in accord with experts judgments on the item qualities since no assumptions about scores distributions andor correlations are assumed the method is applicable to any educational test its performance is illustrated through application to scores of a real test</td>\n",
       "    </tr>\n",
       "    <tr>\n",
       "      <th>439783</th>\n",
       "      <td>safeguarding ecommerce against advisor cheating behaviors towards more   robust trust models for handling unfair ratings</td>\n",
       "      <td>in electronic marketplaces after each transaction buyers will rate the products provided by the sellers to decide the most trustworthy sellers to transact with buyers rely on trust models to leverage these ratings to evaluate the reputation of sellers although the high effectiveness of different trust models for handling unfair ratings have been claimed by their designers recently it is argued that these models are vulnerable to more intelligent attacks and there is an urgent demand that the robustness of the existing trust models has to be evaluated in a more comprehensive way in this work we classify the existing trust models into two broad categories and propose an extendable emarketplace testbed to evaluate their robustness against different unfair rating attacks comprehensively on top of highlighting the robustness of the existing trust models for handling unfair ratings is far from what they were claimed to be we further propose and validate a novel combination mechanism for the existing trust models discountthenfilter to notably enhance their robustness against the investigated attacks</td>\n",
       "    </tr>\n",
       "    <tr>\n",
       "      <th>625995</th>\n",
       "      <td>on the relation between accuracy and fairness in binary classification</td>\n",
       "      <td>our study revisits the problem of accuracyfairness tradeoff in binary classification we argue that comparison of nondiscriminatory classifiers needs to account for different rates of positive predictions otherwise conclusions about performance may be misleading because accuracy and discrimination of naive baselines on the same dataset vary with different rates of positive predictions we provide methodological recommendations for sound comparison of nondiscriminatory classifiers and present a brief theoretical and empirical analysis of tradeoffs between accuracy and nondiscrimination</td>\n",
       "    </tr>\n",
       "    <tr>\n",
       "      <th>866227</th>\n",
       "      <td>the impossibility of fairness a generalized impossibility result for   decisions</td>\n",
       "      <td>various measures can be used to estimate bias or unfairness in a predictor previous work has already established that some of these measures are incompatible with each other here we show that when groups differ in prevalence of the predicted event several intuitive reasonable measures of fairness probability of positive prediction given occurrence or nonoccurrence probability of occurrence given prediction or nonprediction and ratio of predictions over occurrences for each group are all mutually exclusive if one of them is equal among groups the other two must differ the only exceptions are for perfect or trivial alwayspositive or alwaysnegative predictors as a consequence any nonperfect nontrivial predictor must necessarily be unfair under two out of three reasonable sets of criteria this result readily generalizes to a wide range of wellknown statistical quantities sensitivity specificity false positive rate precision etc all of which can be divided into three mutually exclusive groups importantly the results applies to all predictors whether algorithmic or human we conclude with possible ways to handle this effect when assessing and designing prediction methods</td>\n",
       "    </tr>\n",
       "    <tr>\n",
       "      <th>974262</th>\n",
       "      <td>claudette an automated detector of potentially unfair clauses in online   terms of service</td>\n",
       "      <td>terms of service of online platforms too often contain clauses that are potentially unfair to the consumer we present an experimental study where machine learning is employed to automatically detect such potentially unfair clauses results show that the proposed system could provide a valuable tool for lawyers and consumers alike</td>\n",
       "    </tr>\n",
       "  </tbody>\n",
       "</table>\n",
       "</div>"
      ],
      "text/plain": [
       "                                                                                                                           title  \\\n",
       "342381                                                                         unfair items detection in educational measurement   \n",
       "439783  safeguarding ecommerce against advisor cheating behaviors towards more   robust trust models for handling unfair ratings   \n",
       "625995                                                    on the relation between accuracy and fairness in binary classification   \n",
       "866227                                          the impossibility of fairness a generalized impossibility result for   decisions   \n",
       "974262                                claudette an automated detector of potentially unfair clauses in online   terms of service   \n",
       "\n",
       "                                                                                                                                                                                                                                                                                                                                                                                                                                                                                                                                                                                                                                                                                                                                                                                                                                                                                                                                                                                                                                                                                                                                                                                                                                 abstract  \n",
       "342381                                                                                                                                                                                                                                                                                                                                                                                                                                                                                                      measurement professionals cannot come to an agreement on the definition of the term item fairness in this paper a continuous measure of item unfairness is proposed the more the unfairness measure deviates from zero the less fair the item is if the measure exceeds the cutoff value the item is identified as definitely unfair the new approach can identify unfair items that would not be identified with conventional procedures the results are in accord with experts judgments on the item qualities since no assumptions about scores distributions andor correlations are assumed the method is applicable to any educational test its performance is illustrated through application to scores of a real test   \n",
       "439783                                                                             in electronic marketplaces after each transaction buyers will rate the products provided by the sellers to decide the most trustworthy sellers to transact with buyers rely on trust models to leverage these ratings to evaluate the reputation of sellers although the high effectiveness of different trust models for handling unfair ratings have been claimed by their designers recently it is argued that these models are vulnerable to more intelligent attacks and there is an urgent demand that the robustness of the existing trust models has to be evaluated in a more comprehensive way in this work we classify the existing trust models into two broad categories and propose an extendable emarketplace testbed to evaluate their robustness against different unfair rating attacks comprehensively on top of highlighting the robustness of the existing trust models for handling unfair ratings is far from what they were claimed to be we further propose and validate a novel combination mechanism for the existing trust models discountthenfilter to notably enhance their robustness against the investigated attacks   \n",
       "625995                                                                                                                                                                                                                                                                                                                                                                                                                                                                                                                                                                                                                     our study revisits the problem of accuracyfairness tradeoff in binary classification we argue that comparison of nondiscriminatory classifiers needs to account for different rates of positive predictions otherwise conclusions about performance may be misleading because accuracy and discrimination of naive baselines on the same dataset vary with different rates of positive predictions we provide methodological recommendations for sound comparison of nondiscriminatory classifiers and present a brief theoretical and empirical analysis of tradeoffs between accuracy and nondiscrimination   \n",
       "866227    various measures can be used to estimate bias or unfairness in a predictor previous work has already established that some of these measures are incompatible with each other here we show that when groups differ in prevalence of the predicted event several intuitive reasonable measures of fairness probability of positive prediction given occurrence or nonoccurrence probability of occurrence given prediction or nonprediction and ratio of predictions over occurrences for each group are all mutually exclusive if one of them is equal among groups the other two must differ the only exceptions are for perfect or trivial alwayspositive or alwaysnegative predictors as a consequence any nonperfect nontrivial predictor must necessarily be unfair under two out of three reasonable sets of criteria this result readily generalizes to a wide range of wellknown statistical quantities sensitivity specificity false positive rate precision etc all of which can be divided into three mutually exclusive groups importantly the results applies to all predictors whether algorithmic or human we conclude with possible ways to handle this effect when assessing and designing prediction methods   \n",
       "974262                                                                                                                                                                                                                                                                                                                                                                                                                                                                                                                                                                                                                                                                                                                                                                                                                                                                                        terms of service of online platforms too often contain clauses that are potentially unfair to the consumer we present an experimental study where machine learning is employed to automatically detect such potentially unfair clauses results show that the proposed system could provide a valuable tool for lawyers and consumers alike   "
      ]
     },
     "execution_count": 29,
     "metadata": {},
     "output_type": "execute_result"
    }
   ],
   "source": [
    "corpus_ttl.head()"
   ]
  },
  {
   "cell_type": "code",
   "execution_count": null,
   "metadata": {},
   "outputs": [],
   "source": []
  },
  {
   "cell_type": "markdown",
   "metadata": {},
   "source": [
    "## Preprocessing\n",
    "\n",
    "Now that we have our corpus clean we can had into preprocessing for our model. \n",
    "Our Preprocessing Tasks are: \n",
    "\n",
    "- Stemming/Lemmatization of words\n",
    "- Joining Title and abstract data?\n",
    "- Tokenizing words - Creating Document Term Matrix (otherwise known as bag of words)"
   ]
  },
  {
   "cell_type": "code",
   "execution_count": null,
   "metadata": {},
   "outputs": [],
   "source": [
    "### Stemming/Lemmatization "
   ]
  },
  {
   "cell_type": "markdown",
   "metadata": {},
   "source": [
    "## Topic Modelling - Latent Dirlecht Allocation (LDA)"
   ]
  },
  {
   "cell_type": "code",
   "execution_count": null,
   "metadata": {},
   "outputs": [],
   "source": []
  }
 ],
 "metadata": {
  "kernelspec": {
   "display_name": "Python 3",
   "language": "python",
   "name": "python3"
  },
  "language_info": {
   "codemirror_mode": {
    "name": "ipython",
    "version": 3
   },
   "file_extension": ".py",
   "mimetype": "text/x-python",
   "name": "python",
   "nbconvert_exporter": "python",
   "pygments_lexer": "ipython3",
   "version": "3.8.5"
  }
 },
 "nbformat": 4,
 "nbformat_minor": 4
}
